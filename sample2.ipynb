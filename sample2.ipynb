{
 "cells": [
  {
   "cell_type": "code",
   "execution_count": 1,
   "metadata": {},
   "outputs": [
    {
     "data": {
      "text/html": [
       "<div>\n",
       "<style scoped>\n",
       "    .dataframe tbody tr th:only-of-type {\n",
       "        vertical-align: middle;\n",
       "    }\n",
       "\n",
       "    .dataframe tbody tr th {\n",
       "        vertical-align: top;\n",
       "    }\n",
       "\n",
       "    .dataframe thead th {\n",
       "        text-align: right;\n",
       "    }\n",
       "</style>\n",
       "<table border=\"1\" class=\"dataframe\">\n",
       "  <thead>\n",
       "    <tr style=\"text-align: right;\">\n",
       "      <th></th>\n",
       "      <th>spot_id</th>\n",
       "      <th>spot_name</th>\n",
       "      <th>lat</th>\n",
       "      <th>lon</th>\n",
       "      <th>count</th>\n",
       "      <th>spot_types</th>\n",
       "      <th>is_parking</th>\n",
       "    </tr>\n",
       "  </thead>\n",
       "  <tbody>\n",
       "    <tr>\n",
       "      <th>0</th>\n",
       "      <td>0</td>\n",
       "      <td>奈良先端科学技術大学院大学 先端科学技術研究科 情報科学領域</td>\n",
       "      <td>34.731630</td>\n",
       "      <td>135.734690</td>\n",
       "      <td>14677</td>\n",
       "      <td>[university, point_of_interest, establishment]</td>\n",
       "      <td>True</td>\n",
       "    </tr>\n",
       "    <tr>\n",
       "      <th>1</th>\n",
       "      <td>1</td>\n",
       "      <td>学際融合領域研究棟２号館</td>\n",
       "      <td>34.732260</td>\n",
       "      <td>135.732430</td>\n",
       "      <td>5131</td>\n",
       "      <td>[university, point_of_interest, establishment]</td>\n",
       "      <td>True</td>\n",
       "    </tr>\n",
       "    <tr>\n",
       "      <th>2</th>\n",
       "      <td>2</td>\n",
       "      <td>物質創成科学領域E棟</td>\n",
       "      <td>34.730270</td>\n",
       "      <td>135.733930</td>\n",
       "      <td>4957</td>\n",
       "      <td>[university, point_of_interest, establishment]</td>\n",
       "      <td>True</td>\n",
       "    </tr>\n",
       "    <tr>\n",
       "      <th>3</th>\n",
       "      <td>3</td>\n",
       "      <td>学研奈良登美ヶ丘駅</td>\n",
       "      <td>34.726800</td>\n",
       "      <td>135.754380</td>\n",
       "      <td>3829</td>\n",
       "      <td>[spa, point_of_interest, establishment]</td>\n",
       "      <td>True</td>\n",
       "    </tr>\n",
       "    <tr>\n",
       "      <th>4</th>\n",
       "      <td>4</td>\n",
       "      <td>学際融合領域研究棟1号館</td>\n",
       "      <td>34.730930</td>\n",
       "      <td>135.735370</td>\n",
       "      <td>2679</td>\n",
       "      <td>[university, point_of_interest, establishment]</td>\n",
       "      <td>True</td>\n",
       "    </tr>\n",
       "    <tr>\n",
       "      <th>...</th>\n",
       "      <td>...</td>\n",
       "      <td>...</td>\n",
       "      <td>...</td>\n",
       "      <td>...</td>\n",
       "      <td>...</td>\n",
       "      <td>...</td>\n",
       "      <td>...</td>\n",
       "    </tr>\n",
       "    <tr>\n",
       "      <th>1307</th>\n",
       "      <td>1307</td>\n",
       "      <td>御幸荘花結び</td>\n",
       "      <td>34.796163</td>\n",
       "      <td>135.252296</td>\n",
       "      <td>1</td>\n",
       "      <td>[lodging, restaurant, point_of_interest, food,...</td>\n",
       "      <td>False</td>\n",
       "    </tr>\n",
       "    <tr>\n",
       "      <th>1308</th>\n",
       "      <td>1308</td>\n",
       "      <td>美容室リュバンドール(RUBAN D'OR)</td>\n",
       "      <td>34.727334</td>\n",
       "      <td>135.715298</td>\n",
       "      <td>1</td>\n",
       "      <td>[hair_care, beauty_salon, point_of_interest, e...</td>\n",
       "      <td>False</td>\n",
       "    </tr>\n",
       "    <tr>\n",
       "      <th>1309</th>\n",
       "      <td>1309</td>\n",
       "      <td>こぐま薬局西登美ヶ丘店</td>\n",
       "      <td>34.716811</td>\n",
       "      <td>135.745120</td>\n",
       "      <td>1</td>\n",
       "      <td>[pharmacy, health, store, point_of_interest, e...</td>\n",
       "      <td>False</td>\n",
       "    </tr>\n",
       "    <tr>\n",
       "      <th>1310</th>\n",
       "      <td>1310</td>\n",
       "      <td>スーパーヤオヒコ 北大和店</td>\n",
       "      <td>34.726044</td>\n",
       "      <td>135.728961</td>\n",
       "      <td>1</td>\n",
       "      <td>[supermarket, grocery_or_supermarket, store, f...</td>\n",
       "      <td>False</td>\n",
       "    </tr>\n",
       "    <tr>\n",
       "      <th>1311</th>\n",
       "      <td>1311</td>\n",
       "      <td>中野司朗レディースクリニック</td>\n",
       "      <td>34.724713</td>\n",
       "      <td>135.764325</td>\n",
       "      <td>1</td>\n",
       "      <td>[doctor, point_of_interest, health, establishm...</td>\n",
       "      <td>False</td>\n",
       "    </tr>\n",
       "  </tbody>\n",
       "</table>\n",
       "<p>1312 rows × 7 columns</p>\n",
       "</div>"
      ],
      "text/plain": [
       "      spot_id                       spot_name        lat         lon  count  \\\n",
       "0           0  奈良先端科学技術大学院大学 先端科学技術研究科 情報科学領域  34.731630  135.734690  14677   \n",
       "1           1                    学際融合領域研究棟２号館  34.732260  135.732430   5131   \n",
       "2           2                      物質創成科学領域E棟  34.730270  135.733930   4957   \n",
       "3           3                       学研奈良登美ヶ丘駅  34.726800  135.754380   3829   \n",
       "4           4                    学際融合領域研究棟1号館  34.730930  135.735370   2679   \n",
       "...       ...                             ...        ...         ...    ...   \n",
       "1307     1307                          御幸荘花結び  34.796163  135.252296      1   \n",
       "1308     1308          美容室リュバンドール(RUBAN D'OR)  34.727334  135.715298      1   \n",
       "1309     1309                     こぐま薬局西登美ヶ丘店  34.716811  135.745120      1   \n",
       "1310     1310                   スーパーヤオヒコ 北大和店  34.726044  135.728961      1   \n",
       "1311     1311                  中野司朗レディースクリニック  34.724713  135.764325      1   \n",
       "\n",
       "                                             spot_types  is_parking  \n",
       "0        [university, point_of_interest, establishment]        True  \n",
       "1        [university, point_of_interest, establishment]        True  \n",
       "2        [university, point_of_interest, establishment]        True  \n",
       "3               [spa, point_of_interest, establishment]        True  \n",
       "4        [university, point_of_interest, establishment]        True  \n",
       "...                                                 ...         ...  \n",
       "1307  [lodging, restaurant, point_of_interest, food,...       False  \n",
       "1308  [hair_care, beauty_salon, point_of_interest, e...       False  \n",
       "1309  [pharmacy, health, store, point_of_interest, e...       False  \n",
       "1310  [supermarket, grocery_or_supermarket, store, f...       False  \n",
       "1311  [doctor, point_of_interest, health, establishm...       False  \n",
       "\n",
       "[1312 rows x 7 columns]"
      ]
     },
     "execution_count": 1,
     "metadata": {},
     "output_type": "execute_result"
    }
   ],
   "source": [
    "import json\n",
    "import pandas as pd\n",
    "\n",
    "spot_df = pd.read_csv(\"./spot.csv\")\n",
    "history_df = pd.read_csv(\"./history.csv\", parse_dates=[\"started_at\", \"ended_at\"])\n",
    "trip_df = pd.read_csv(\"./trip.csv\", parse_dates=[\"created_at\"])\n",
    "user_df = pd.read_csv(\"./user.csv\")\n",
    "\n",
    "spot_df[\"spot_types\"] = spot_df[\"spot_types\"].map(json.loads)\n",
    "\n",
    "spot_df\n"
   ]
  },
  {
   "cell_type": "code",
   "execution_count": 2,
   "metadata": {},
   "outputs": [
    {
     "data": {
      "text/html": [
       "<div>\n",
       "<style scoped>\n",
       "    .dataframe tbody tr th:only-of-type {\n",
       "        vertical-align: middle;\n",
       "    }\n",
       "\n",
       "    .dataframe tbody tr th {\n",
       "        vertical-align: top;\n",
       "    }\n",
       "\n",
       "    .dataframe thead th {\n",
       "        text-align: right;\n",
       "    }\n",
       "</style>\n",
       "<table border=\"1\" class=\"dataframe\">\n",
       "  <thead>\n",
       "    <tr style=\"text-align: right;\">\n",
       "      <th></th>\n",
       "      <th>history_id</th>\n",
       "      <th>started_at</th>\n",
       "      <th>ended_at</th>\n",
       "      <th>from_parking_lot</th>\n",
       "      <th>to_parking_lot</th>\n",
       "      <th>car</th>\n",
       "      <th>passengers_count</th>\n",
       "      <th>distance</th>\n",
       "      <th>user_id</th>\n",
       "    </tr>\n",
       "  </thead>\n",
       "  <tbody>\n",
       "    <tr>\n",
       "      <th>0</th>\n",
       "      <td>202204_0</td>\n",
       "      <td>2022-04-01 09:02:00</td>\n",
       "      <td>2022-04-01 12:37:00</td>\n",
       "      <td>NAIST</td>\n",
       "      <td>STATION</td>\n",
       "      <td>iMiev02</td>\n",
       "      <td>3</td>\n",
       "      <td>12.155552539654046</td>\n",
       "      <td>67</td>\n",
       "    </tr>\n",
       "    <tr>\n",
       "      <th>1</th>\n",
       "      <td>202204_1</td>\n",
       "      <td>2022-04-01 11:55:00</td>\n",
       "      <td>2022-04-01 13:11:00</td>\n",
       "      <td>NAIST</td>\n",
       "      <td>NAIST</td>\n",
       "      <td>LEAF (STAFF ONLY)</td>\n",
       "      <td>1</td>\n",
       "      <td>14.526907989995856</td>\n",
       "      <td>2</td>\n",
       "    </tr>\n",
       "    <tr>\n",
       "      <th>2</th>\n",
       "      <td>202204_2</td>\n",
       "      <td>2022-04-01 12:41:00</td>\n",
       "      <td>2022-04-01 18:36:00</td>\n",
       "      <td>STATION</td>\n",
       "      <td>NAIST</td>\n",
       "      <td>iMiev02</td>\n",
       "      <td>3</td>\n",
       "      <td>22.336619868894612</td>\n",
       "      <td>67</td>\n",
       "    </tr>\n",
       "    <tr>\n",
       "      <th>3</th>\n",
       "      <td>202204_3</td>\n",
       "      <td>2022-04-01 17:44:00</td>\n",
       "      <td>2022-04-01 18:00:00</td>\n",
       "      <td>NAIST</td>\n",
       "      <td>NAIST</td>\n",
       "      <td>LEAF (STAFF ONLY)</td>\n",
       "      <td>4</td>\n",
       "      <td>2.6650702613564605</td>\n",
       "      <td>8</td>\n",
       "    </tr>\n",
       "    <tr>\n",
       "      <th>4</th>\n",
       "      <td>202204_4</td>\n",
       "      <td>2022-04-01 18:43:00</td>\n",
       "      <td>2022-04-01 20:25:00</td>\n",
       "      <td>NAIST</td>\n",
       "      <td>NAIST</td>\n",
       "      <td>iMiev02</td>\n",
       "      <td>2</td>\n",
       "      <td>10</td>\n",
       "      <td>78</td>\n",
       "    </tr>\n",
       "    <tr>\n",
       "      <th>...</th>\n",
       "      <td>...</td>\n",
       "      <td>...</td>\n",
       "      <td>...</td>\n",
       "      <td>...</td>\n",
       "      <td>...</td>\n",
       "      <td>...</td>\n",
       "      <td>...</td>\n",
       "      <td>...</td>\n",
       "      <td>...</td>\n",
       "    </tr>\n",
       "    <tr>\n",
       "      <th>2423</th>\n",
       "      <td>202303_247</td>\n",
       "      <td>2023-03-31 17:22:00</td>\n",
       "      <td>2023-03-31 18:23:00</td>\n",
       "      <td>NAIST</td>\n",
       "      <td>NAIST</td>\n",
       "      <td>LEAF (STAFF ONLY)</td>\n",
       "      <td>1</td>\n",
       "      <td>8.268403888105079</td>\n",
       "      <td>118</td>\n",
       "    </tr>\n",
       "    <tr>\n",
       "      <th>2424</th>\n",
       "      <td>202303_248</td>\n",
       "      <td>2023-03-31 17:44:00</td>\n",
       "      <td>2023-03-31 18:25:00</td>\n",
       "      <td>NAIST</td>\n",
       "      <td>STATION</td>\n",
       "      <td>BMW (STAFF ONLY)</td>\n",
       "      <td>1</td>\n",
       "      <td>2.7994774190750578</td>\n",
       "      <td>137</td>\n",
       "    </tr>\n",
       "    <tr>\n",
       "      <th>2425</th>\n",
       "      <td>202303_249</td>\n",
       "      <td>2023-03-31 18:51:00</td>\n",
       "      <td>2023-03-31 20:43:00</td>\n",
       "      <td>NAIST</td>\n",
       "      <td>NAIST</td>\n",
       "      <td>LEAF (STAFF ONLY)</td>\n",
       "      <td>1</td>\n",
       "      <td>5.700650492866569</td>\n",
       "      <td>9</td>\n",
       "    </tr>\n",
       "    <tr>\n",
       "      <th>2426</th>\n",
       "      <td>202303_250</td>\n",
       "      <td>2023-03-31 19:22:00</td>\n",
       "      <td>2023-04-01 05:14:00</td>\n",
       "      <td>NAIST</td>\n",
       "      <td>NAIST</td>\n",
       "      <td>iMiev02</td>\n",
       "      <td>1</td>\n",
       "      <td>6.73965243379831</td>\n",
       "      <td>156</td>\n",
       "    </tr>\n",
       "    <tr>\n",
       "      <th>2427</th>\n",
       "      <td>202303_251</td>\n",
       "      <td>2023-03-31 23:05:00</td>\n",
       "      <td>2023-04-01 05:41:00</td>\n",
       "      <td>NAIST</td>\n",
       "      <td>NAIST</td>\n",
       "      <td>iMiev01</td>\n",
       "      <td>1</td>\n",
       "      <td>20.32017307143929</td>\n",
       "      <td>129</td>\n",
       "    </tr>\n",
       "  </tbody>\n",
       "</table>\n",
       "<p>2428 rows × 9 columns</p>\n",
       "</div>"
      ],
      "text/plain": [
       "      history_id          started_at            ended_at from_parking_lot  \\\n",
       "0       202204_0 2022-04-01 09:02:00 2022-04-01 12:37:00            NAIST   \n",
       "1       202204_1 2022-04-01 11:55:00 2022-04-01 13:11:00            NAIST   \n",
       "2       202204_2 2022-04-01 12:41:00 2022-04-01 18:36:00          STATION   \n",
       "3       202204_3 2022-04-01 17:44:00 2022-04-01 18:00:00            NAIST   \n",
       "4       202204_4 2022-04-01 18:43:00 2022-04-01 20:25:00            NAIST   \n",
       "...          ...                 ...                 ...              ...   \n",
       "2423  202303_247 2023-03-31 17:22:00 2023-03-31 18:23:00            NAIST   \n",
       "2424  202303_248 2023-03-31 17:44:00 2023-03-31 18:25:00            NAIST   \n",
       "2425  202303_249 2023-03-31 18:51:00 2023-03-31 20:43:00            NAIST   \n",
       "2426  202303_250 2023-03-31 19:22:00 2023-04-01 05:14:00            NAIST   \n",
       "2427  202303_251 2023-03-31 23:05:00 2023-04-01 05:41:00            NAIST   \n",
       "\n",
       "     to_parking_lot                car  passengers_count            distance  \\\n",
       "0           STATION            iMiev02                 3  12.155552539654046   \n",
       "1             NAIST  LEAF (STAFF ONLY)                 1  14.526907989995856   \n",
       "2             NAIST            iMiev02                 3  22.336619868894612   \n",
       "3             NAIST  LEAF (STAFF ONLY)                 4  2.6650702613564605   \n",
       "4             NAIST            iMiev02                 2                  10   \n",
       "...             ...                ...               ...                 ...   \n",
       "2423          NAIST  LEAF (STAFF ONLY)                 1   8.268403888105079   \n",
       "2424        STATION   BMW (STAFF ONLY)                 1  2.7994774190750578   \n",
       "2425          NAIST  LEAF (STAFF ONLY)                 1   5.700650492866569   \n",
       "2426          NAIST            iMiev02                 1    6.73965243379831   \n",
       "2427          NAIST            iMiev01                 1   20.32017307143929   \n",
       "\n",
       "      user_id  \n",
       "0          67  \n",
       "1           2  \n",
       "2          67  \n",
       "3           8  \n",
       "4          78  \n",
       "...       ...  \n",
       "2423      118  \n",
       "2424      137  \n",
       "2425        9  \n",
       "2426      156  \n",
       "2427      129  \n",
       "\n",
       "[2428 rows x 9 columns]"
      ]
     },
     "execution_count": 2,
     "metadata": {},
     "output_type": "execute_result"
    }
   ],
   "source": [
    "history_df"
   ]
  },
  {
   "cell_type": "code",
   "execution_count": 3,
   "metadata": {},
   "outputs": [
    {
     "name": "stdout",
     "output_type": "stream",
     "text": [
      "9\n"
     ]
    },
    {
     "data": {
      "text/html": [
       "<div>\n",
       "<style scoped>\n",
       "    .dataframe tbody tr th:only-of-type {\n",
       "        vertical-align: middle;\n",
       "    }\n",
       "\n",
       "    .dataframe tbody tr th {\n",
       "        vertical-align: top;\n",
       "    }\n",
       "\n",
       "    .dataframe thead th {\n",
       "        text-align: right;\n",
       "    }\n",
       "</style>\n",
       "<table border=\"1\" class=\"dataframe\">\n",
       "  <thead>\n",
       "    <tr style=\"text-align: right;\">\n",
       "      <th></th>\n",
       "      <th>created_at</th>\n",
       "      <th>lat</th>\n",
       "      <th>lon</th>\n",
       "      <th>car</th>\n",
       "      <th>user_id</th>\n",
       "      <th>spot_id</th>\n",
       "      <th>history_id</th>\n",
       "    </tr>\n",
       "  </thead>\n",
       "  <tbody>\n",
       "    <tr>\n",
       "      <th>0</th>\n",
       "      <td>2022-04-01 09:42:00+09:00</td>\n",
       "      <td>34.731556</td>\n",
       "      <td>135.734905</td>\n",
       "      <td>iMiev02</td>\n",
       "      <td>67</td>\n",
       "      <td>0</td>\n",
       "      <td>202204_0</td>\n",
       "    </tr>\n",
       "    <tr>\n",
       "      <th>1</th>\n",
       "      <td>2022-04-01 10:42:00+09:00</td>\n",
       "      <td>34.731556</td>\n",
       "      <td>135.734905</td>\n",
       "      <td>iMiev02</td>\n",
       "      <td>67</td>\n",
       "      <td>0</td>\n",
       "      <td>202204_0</td>\n",
       "    </tr>\n",
       "    <tr>\n",
       "      <th>2</th>\n",
       "      <td>2022-04-01 11:30:00+09:00</td>\n",
       "      <td>34.731605</td>\n",
       "      <td>135.734936</td>\n",
       "      <td>iMiev02</td>\n",
       "      <td>67</td>\n",
       "      <td>0</td>\n",
       "      <td>202204_0</td>\n",
       "    </tr>\n",
       "    <tr>\n",
       "      <th>3</th>\n",
       "      <td>2022-04-01 12:02:00+09:00</td>\n",
       "      <td>34.725523</td>\n",
       "      <td>135.789171</td>\n",
       "      <td>iMiev02</td>\n",
       "      <td>67</td>\n",
       "      <td>37</td>\n",
       "      <td>202204_0</td>\n",
       "    </tr>\n",
       "    <tr>\n",
       "      <th>4</th>\n",
       "      <td>2022-04-01 13:41:00+09:00</td>\n",
       "      <td>34.726816</td>\n",
       "      <td>135.754365</td>\n",
       "      <td>iMiev02</td>\n",
       "      <td>67</td>\n",
       "      <td>3</td>\n",
       "      <td>202204_2</td>\n",
       "    </tr>\n",
       "    <tr>\n",
       "      <th>...</th>\n",
       "      <td>...</td>\n",
       "      <td>...</td>\n",
       "      <td>...</td>\n",
       "      <td>...</td>\n",
       "      <td>...</td>\n",
       "      <td>...</td>\n",
       "      <td>...</td>\n",
       "    </tr>\n",
       "    <tr>\n",
       "      <th>10301</th>\n",
       "      <td>2023-03-31 19:48:00+09:00</td>\n",
       "      <td>34.726518</td>\n",
       "      <td>135.715110</td>\n",
       "      <td>LEAF (STAFF ONLY)</td>\n",
       "      <td>9</td>\n",
       "      <td>68</td>\n",
       "      <td>202303_249</td>\n",
       "    </tr>\n",
       "    <tr>\n",
       "      <th>10302</th>\n",
       "      <td>2023-03-31 20:09:00+09:00</td>\n",
       "      <td>34.726648</td>\n",
       "      <td>135.754558</td>\n",
       "      <td>iMiev01</td>\n",
       "      <td>149</td>\n",
       "      <td>3</td>\n",
       "      <td>202303_245</td>\n",
       "    </tr>\n",
       "    <tr>\n",
       "      <th>10303</th>\n",
       "      <td>2023-03-31 20:16:00+09:00</td>\n",
       "      <td>34.731648</td>\n",
       "      <td>135.734976</td>\n",
       "      <td>iMiev02</td>\n",
       "      <td>156</td>\n",
       "      <td>0</td>\n",
       "      <td>202303_250</td>\n",
       "    </tr>\n",
       "    <tr>\n",
       "      <th>10304</th>\n",
       "      <td>2023-03-31 21:17:00+09:00</td>\n",
       "      <td>34.731648</td>\n",
       "      <td>135.734976</td>\n",
       "      <td>iMiev02</td>\n",
       "      <td>156</td>\n",
       "      <td>0</td>\n",
       "      <td>202303_250</td>\n",
       "    </tr>\n",
       "    <tr>\n",
       "      <th>10305</th>\n",
       "      <td>2023-03-31 22:17:00+09:00</td>\n",
       "      <td>34.731648</td>\n",
       "      <td>135.734976</td>\n",
       "      <td>iMiev02</td>\n",
       "      <td>156</td>\n",
       "      <td>0</td>\n",
       "      <td>202303_250</td>\n",
       "    </tr>\n",
       "  </tbody>\n",
       "</table>\n",
       "<p>10306 rows × 7 columns</p>\n",
       "</div>"
      ],
      "text/plain": [
       "                     created_at        lat         lon                car  \\\n",
       "0     2022-04-01 09:42:00+09:00  34.731556  135.734905            iMiev02   \n",
       "1     2022-04-01 10:42:00+09:00  34.731556  135.734905            iMiev02   \n",
       "2     2022-04-01 11:30:00+09:00  34.731605  135.734936            iMiev02   \n",
       "3     2022-04-01 12:02:00+09:00  34.725523  135.789171            iMiev02   \n",
       "4     2022-04-01 13:41:00+09:00  34.726816  135.754365            iMiev02   \n",
       "...                         ...        ...         ...                ...   \n",
       "10301 2023-03-31 19:48:00+09:00  34.726518  135.715110  LEAF (STAFF ONLY)   \n",
       "10302 2023-03-31 20:09:00+09:00  34.726648  135.754558            iMiev01   \n",
       "10303 2023-03-31 20:16:00+09:00  34.731648  135.734976            iMiev02   \n",
       "10304 2023-03-31 21:17:00+09:00  34.731648  135.734976            iMiev02   \n",
       "10305 2023-03-31 22:17:00+09:00  34.731648  135.734976            iMiev02   \n",
       "\n",
       "       user_id  spot_id  history_id  \n",
       "0           67        0    202204_0  \n",
       "1           67        0    202204_0  \n",
       "2           67        0    202204_0  \n",
       "3           67       37    202204_0  \n",
       "4           67        3    202204_2  \n",
       "...        ...      ...         ...  \n",
       "10301        9       68  202303_249  \n",
       "10302      149        3  202303_245  \n",
       "10303      156        0  202303_250  \n",
       "10304      156        0  202303_250  \n",
       "10305      156        0  202303_250  \n",
       "\n",
       "[10306 rows x 7 columns]"
      ]
     },
     "execution_count": 3,
     "metadata": {},
     "output_type": "execute_result"
    }
   ],
   "source": [
    "print(trip_df.iloc[0][\"created_at\"].hour)\n",
    "\n",
    "trip_df"
   ]
  },
  {
   "cell_type": "code",
   "execution_count": 4,
   "metadata": {},
   "outputs": [
    {
     "data": {
      "text/html": [
       "<div>\n",
       "<style scoped>\n",
       "    .dataframe tbody tr th:only-of-type {\n",
       "        vertical-align: middle;\n",
       "    }\n",
       "\n",
       "    .dataframe tbody tr th {\n",
       "        vertical-align: top;\n",
       "    }\n",
       "\n",
       "    .dataframe thead th {\n",
       "        text-align: right;\n",
       "    }\n",
       "</style>\n",
       "<table border=\"1\" class=\"dataframe\">\n",
       "  <thead>\n",
       "    <tr style=\"text-align: right;\">\n",
       "      <th></th>\n",
       "      <th>user_id</th>\n",
       "      <th>user_type</th>\n",
       "    </tr>\n",
       "  </thead>\n",
       "  <tbody>\n",
       "    <tr>\n",
       "      <th>0</th>\n",
       "      <td>1</td>\n",
       "      <td>staff</td>\n",
       "    </tr>\n",
       "    <tr>\n",
       "      <th>1</th>\n",
       "      <td>2</td>\n",
       "      <td>staff</td>\n",
       "    </tr>\n",
       "    <tr>\n",
       "      <th>2</th>\n",
       "      <td>3</td>\n",
       "      <td>staff</td>\n",
       "    </tr>\n",
       "    <tr>\n",
       "      <th>3</th>\n",
       "      <td>4</td>\n",
       "      <td>staff</td>\n",
       "    </tr>\n",
       "    <tr>\n",
       "      <th>4</th>\n",
       "      <td>5</td>\n",
       "      <td>staff</td>\n",
       "    </tr>\n",
       "    <tr>\n",
       "      <th>...</th>\n",
       "      <td>...</td>\n",
       "      <td>...</td>\n",
       "    </tr>\n",
       "    <tr>\n",
       "      <th>190</th>\n",
       "      <td>191</td>\n",
       "      <td>student</td>\n",
       "    </tr>\n",
       "    <tr>\n",
       "      <th>191</th>\n",
       "      <td>192</td>\n",
       "      <td>student</td>\n",
       "    </tr>\n",
       "    <tr>\n",
       "      <th>192</th>\n",
       "      <td>193</td>\n",
       "      <td>student</td>\n",
       "    </tr>\n",
       "    <tr>\n",
       "      <th>193</th>\n",
       "      <td>194</td>\n",
       "      <td>student</td>\n",
       "    </tr>\n",
       "    <tr>\n",
       "      <th>194</th>\n",
       "      <td>195</td>\n",
       "      <td>staff</td>\n",
       "    </tr>\n",
       "  </tbody>\n",
       "</table>\n",
       "<p>195 rows × 2 columns</p>\n",
       "</div>"
      ],
      "text/plain": [
       "     user_id user_type\n",
       "0          1     staff\n",
       "1          2     staff\n",
       "2          3     staff\n",
       "3          4     staff\n",
       "4          5     staff\n",
       "..       ...       ...\n",
       "190      191   student\n",
       "191      192   student\n",
       "192      193   student\n",
       "193      194   student\n",
       "194      195     staff\n",
       "\n",
       "[195 rows x 2 columns]"
      ]
     },
     "execution_count": 4,
     "metadata": {},
     "output_type": "execute_result"
    }
   ],
   "source": [
    "user_df"
   ]
  },
  {
   "cell_type": "code",
   "execution_count": 11,
   "metadata": {},
   "outputs": [
    {
     "data": {
      "text/html": [
       "<div>\n",
       "<style scoped>\n",
       "    .dataframe tbody tr th:only-of-type {\n",
       "        vertical-align: middle;\n",
       "    }\n",
       "\n",
       "    .dataframe tbody tr th {\n",
       "        vertical-align: top;\n",
       "    }\n",
       "\n",
       "    .dataframe thead th {\n",
       "        text-align: right;\n",
       "    }\n",
       "</style>\n",
       "<table border=\"1\" class=\"dataframe\">\n",
       "  <thead>\n",
       "    <tr style=\"text-align: right;\">\n",
       "      <th></th>\n",
       "      <th>user_id</th>\n",
       "      <th>spot_id</th>\n",
       "      <th>spot_name</th>\n",
       "      <th>created_at</th>\n",
       "      <th>car</th>\n",
       "      <th>is_parking</th>\n",
       "    </tr>\n",
       "  </thead>\n",
       "  <tbody>\n",
       "    <tr>\n",
       "      <th>0</th>\n",
       "      <td>67</td>\n",
       "      <td>0</td>\n",
       "      <td>奈良先端科学技術大学院大学 先端科学技術研究科 情報科学領域</td>\n",
       "      <td>2022-04-01 09:42:00+09:00</td>\n",
       "      <td>iMiev02</td>\n",
       "      <td>True</td>\n",
       "    </tr>\n",
       "    <tr>\n",
       "      <th>1</th>\n",
       "      <td>67</td>\n",
       "      <td>0</td>\n",
       "      <td>奈良先端科学技術大学院大学 先端科学技術研究科 情報科学領域</td>\n",
       "      <td>2022-04-01 10:42:00+09:00</td>\n",
       "      <td>iMiev02</td>\n",
       "      <td>True</td>\n",
       "    </tr>\n",
       "    <tr>\n",
       "      <th>2</th>\n",
       "      <td>67</td>\n",
       "      <td>0</td>\n",
       "      <td>奈良先端科学技術大学院大学 先端科学技術研究科 情報科学領域</td>\n",
       "      <td>2022-04-01 11:30:00+09:00</td>\n",
       "      <td>iMiev02</td>\n",
       "      <td>True</td>\n",
       "    </tr>\n",
       "    <tr>\n",
       "      <th>3</th>\n",
       "      <td>69</td>\n",
       "      <td>0</td>\n",
       "      <td>奈良先端科学技術大学院大学 先端科学技術研究科 情報科学領域</td>\n",
       "      <td>2022-04-01 22:37:00+09:00</td>\n",
       "      <td>iMiev02</td>\n",
       "      <td>True</td>\n",
       "    </tr>\n",
       "    <tr>\n",
       "      <th>4</th>\n",
       "      <td>67</td>\n",
       "      <td>0</td>\n",
       "      <td>奈良先端科学技術大学院大学 先端科学技術研究科 情報科学領域</td>\n",
       "      <td>2022-04-02 07:39:00+09:00</td>\n",
       "      <td>iMiev02</td>\n",
       "      <td>True</td>\n",
       "    </tr>\n",
       "    <tr>\n",
       "      <th>...</th>\n",
       "      <td>...</td>\n",
       "      <td>...</td>\n",
       "      <td>...</td>\n",
       "      <td>...</td>\n",
       "      <td>...</td>\n",
       "      <td>...</td>\n",
       "    </tr>\n",
       "    <tr>\n",
       "      <th>10301</th>\n",
       "      <td>54</td>\n",
       "      <td>919</td>\n",
       "      <td>キヤノンシステムアンドサポート株式会社 奈良営業所</td>\n",
       "      <td>2023-03-28 18:53:00+09:00</td>\n",
       "      <td>LEAF (STAFF ONLY)</td>\n",
       "      <td>False</td>\n",
       "    </tr>\n",
       "    <tr>\n",
       "      <th>10302</th>\n",
       "      <td>2</td>\n",
       "      <td>804</td>\n",
       "      <td>とがわ整骨院</td>\n",
       "      <td>2023-03-30 09:32:00+09:00</td>\n",
       "      <td>BMW (STAFF ONLY)</td>\n",
       "      <td>False</td>\n",
       "    </tr>\n",
       "    <tr>\n",
       "      <th>10303</th>\n",
       "      <td>2</td>\n",
       "      <td>607</td>\n",
       "      <td>GREENSUN FOODグリーンサンフード</td>\n",
       "      <td>2023-03-30 10:18:00+09:00</td>\n",
       "      <td>BMW (STAFF ONLY)</td>\n",
       "      <td>False</td>\n",
       "    </tr>\n",
       "    <tr>\n",
       "      <th>10304</th>\n",
       "      <td>2</td>\n",
       "      <td>607</td>\n",
       "      <td>GREENSUN FOODグリーンサンフード</td>\n",
       "      <td>2023-03-30 10:30:00+09:00</td>\n",
       "      <td>BMW (STAFF ONLY)</td>\n",
       "      <td>False</td>\n",
       "    </tr>\n",
       "    <tr>\n",
       "      <th>10305</th>\n",
       "      <td>2</td>\n",
       "      <td>802</td>\n",
       "      <td>木津川アート壁画</td>\n",
       "      <td>2023-03-30 12:34:00+09:00</td>\n",
       "      <td>BMW (STAFF ONLY)</td>\n",
       "      <td>False</td>\n",
       "    </tr>\n",
       "  </tbody>\n",
       "</table>\n",
       "<p>10306 rows × 6 columns</p>\n",
       "</div>"
      ],
      "text/plain": [
       "       user_id  spot_id                       spot_name  \\\n",
       "0           67        0  奈良先端科学技術大学院大学 先端科学技術研究科 情報科学領域   \n",
       "1           67        0  奈良先端科学技術大学院大学 先端科学技術研究科 情報科学領域   \n",
       "2           67        0  奈良先端科学技術大学院大学 先端科学技術研究科 情報科学領域   \n",
       "3           69        0  奈良先端科学技術大学院大学 先端科学技術研究科 情報科学領域   \n",
       "4           67        0  奈良先端科学技術大学院大学 先端科学技術研究科 情報科学領域   \n",
       "...        ...      ...                             ...   \n",
       "10301       54      919       キヤノンシステムアンドサポート株式会社 奈良営業所   \n",
       "10302        2      804                          とがわ整骨院   \n",
       "10303        2      607          GREENSUN FOODグリーンサンフード   \n",
       "10304        2      607          GREENSUN FOODグリーンサンフード   \n",
       "10305        2      802                        木津川アート壁画   \n",
       "\n",
       "                     created_at                car  is_parking  \n",
       "0     2022-04-01 09:42:00+09:00            iMiev02        True  \n",
       "1     2022-04-01 10:42:00+09:00            iMiev02        True  \n",
       "2     2022-04-01 11:30:00+09:00            iMiev02        True  \n",
       "3     2022-04-01 22:37:00+09:00            iMiev02        True  \n",
       "4     2022-04-02 07:39:00+09:00            iMiev02        True  \n",
       "...                         ...                ...         ...  \n",
       "10301 2023-03-28 18:53:00+09:00  LEAF (STAFF ONLY)       False  \n",
       "10302 2023-03-30 09:32:00+09:00   BMW (STAFF ONLY)       False  \n",
       "10303 2023-03-30 10:18:00+09:00   BMW (STAFF ONLY)       False  \n",
       "10304 2023-03-30 10:30:00+09:00   BMW (STAFF ONLY)       False  \n",
       "10305 2023-03-30 12:34:00+09:00   BMW (STAFF ONLY)       False  \n",
       "\n",
       "[10306 rows x 6 columns]"
      ]
     },
     "execution_count": 11,
     "metadata": {},
     "output_type": "execute_result"
    }
   ],
   "source": [
    "\"\"\"必要なデータ(trip_df, spot_df)を結合し，データの整形\"\"\"\n",
    "merged_df1 = pd.merge(trip_df, spot_df, on=\"spot_id\")[[\"user_id\", \"spot_id\", \"spot_name\", \"created_at\", \"car\", \"is_parking\"]]\n",
    "merged_df1"
   ]
  },
  {
   "cell_type": "code",
   "execution_count": 6,
   "metadata": {},
   "outputs": [
    {
     "data": {
      "text/html": [
       "<div>\n",
       "<style scoped>\n",
       "    .dataframe tbody tr th:only-of-type {\n",
       "        vertical-align: middle;\n",
       "    }\n",
       "\n",
       "    .dataframe tbody tr th {\n",
       "        vertical-align: top;\n",
       "    }\n",
       "\n",
       "    .dataframe thead th {\n",
       "        text-align: right;\n",
       "    }\n",
       "</style>\n",
       "<table border=\"1\" class=\"dataframe\">\n",
       "  <thead>\n",
       "    <tr style=\"text-align: right;\">\n",
       "      <th></th>\n",
       "      <th>user_id</th>\n",
       "      <th>spot_id</th>\n",
       "      <th>spot_name</th>\n",
       "      <th>created_at</th>\n",
       "      <th>car</th>\n",
       "      <th>is_parking</th>\n",
       "      <th>user_type</th>\n",
       "    </tr>\n",
       "  </thead>\n",
       "  <tbody>\n",
       "    <tr>\n",
       "      <th>0</th>\n",
       "      <td>67</td>\n",
       "      <td>0</td>\n",
       "      <td>奈良先端科学技術大学院大学 先端科学技術研究科 情報科学領域</td>\n",
       "      <td>2022-04-01 09:42:00+09:00</td>\n",
       "      <td>iMiev02</td>\n",
       "      <td>True</td>\n",
       "      <td>student</td>\n",
       "    </tr>\n",
       "    <tr>\n",
       "      <th>1</th>\n",
       "      <td>67</td>\n",
       "      <td>0</td>\n",
       "      <td>奈良先端科学技術大学院大学 先端科学技術研究科 情報科学領域</td>\n",
       "      <td>2022-04-01 10:42:00+09:00</td>\n",
       "      <td>iMiev02</td>\n",
       "      <td>True</td>\n",
       "      <td>student</td>\n",
       "    </tr>\n",
       "    <tr>\n",
       "      <th>2</th>\n",
       "      <td>67</td>\n",
       "      <td>0</td>\n",
       "      <td>奈良先端科学技術大学院大学 先端科学技術研究科 情報科学領域</td>\n",
       "      <td>2022-04-01 11:30:00+09:00</td>\n",
       "      <td>iMiev02</td>\n",
       "      <td>True</td>\n",
       "      <td>student</td>\n",
       "    </tr>\n",
       "    <tr>\n",
       "      <th>3</th>\n",
       "      <td>67</td>\n",
       "      <td>0</td>\n",
       "      <td>奈良先端科学技術大学院大学 先端科学技術研究科 情報科学領域</td>\n",
       "      <td>2022-04-02 07:39:00+09:00</td>\n",
       "      <td>iMiev02</td>\n",
       "      <td>True</td>\n",
       "      <td>student</td>\n",
       "    </tr>\n",
       "    <tr>\n",
       "      <th>4</th>\n",
       "      <td>67</td>\n",
       "      <td>0</td>\n",
       "      <td>奈良先端科学技術大学院大学 先端科学技術研究科 情報科学領域</td>\n",
       "      <td>2022-04-02 08:39:00+09:00</td>\n",
       "      <td>iMiev02</td>\n",
       "      <td>True</td>\n",
       "      <td>student</td>\n",
       "    </tr>\n",
       "    <tr>\n",
       "      <th>...</th>\n",
       "      <td>...</td>\n",
       "      <td>...</td>\n",
       "      <td>...</td>\n",
       "      <td>...</td>\n",
       "      <td>...</td>\n",
       "      <td>...</td>\n",
       "      <td>...</td>\n",
       "    </tr>\n",
       "    <tr>\n",
       "      <th>10301</th>\n",
       "      <td>146</td>\n",
       "      <td>220</td>\n",
       "      <td>うなぎの豊川</td>\n",
       "      <td>2022-09-08 17:06:00+09:00</td>\n",
       "      <td>LEAF (STAFF ONLY)</td>\n",
       "      <td>False</td>\n",
       "      <td>staff</td>\n",
       "    </tr>\n",
       "    <tr>\n",
       "      <th>10302</th>\n",
       "      <td>146</td>\n",
       "      <td>1219</td>\n",
       "      <td>株式会社久保組</td>\n",
       "      <td>2022-09-08 16:09:00+09:00</td>\n",
       "      <td>LEAF (STAFF ONLY)</td>\n",
       "      <td>False</td>\n",
       "      <td>staff</td>\n",
       "    </tr>\n",
       "    <tr>\n",
       "      <th>10303</th>\n",
       "      <td>146</td>\n",
       "      <td>1220</td>\n",
       "      <td>もとやま助産所</td>\n",
       "      <td>2022-09-08 17:12:00+09:00</td>\n",
       "      <td>LEAF (STAFF ONLY)</td>\n",
       "      <td>False</td>\n",
       "      <td>staff</td>\n",
       "    </tr>\n",
       "    <tr>\n",
       "      <th>10304</th>\n",
       "      <td>112</td>\n",
       "      <td>18</td>\n",
       "      <td>イオンモール奈良登美ヶ丘</td>\n",
       "      <td>2022-06-08 20:06:00+09:00</td>\n",
       "      <td>iMiev01</td>\n",
       "      <td>False</td>\n",
       "      <td>student</td>\n",
       "    </tr>\n",
       "    <tr>\n",
       "      <th>10305</th>\n",
       "      <td>3</td>\n",
       "      <td>253</td>\n",
       "      <td>ITTO個別指導学院 生駒台校</td>\n",
       "      <td>2022-09-22 13:35:00+09:00</td>\n",
       "      <td>LEAF (STAFF ONLY)</td>\n",
       "      <td>False</td>\n",
       "      <td>staff</td>\n",
       "    </tr>\n",
       "  </tbody>\n",
       "</table>\n",
       "<p>10306 rows × 7 columns</p>\n",
       "</div>"
      ],
      "text/plain": [
       "       user_id  spot_id                       spot_name  \\\n",
       "0           67        0  奈良先端科学技術大学院大学 先端科学技術研究科 情報科学領域   \n",
       "1           67        0  奈良先端科学技術大学院大学 先端科学技術研究科 情報科学領域   \n",
       "2           67        0  奈良先端科学技術大学院大学 先端科学技術研究科 情報科学領域   \n",
       "3           67        0  奈良先端科学技術大学院大学 先端科学技術研究科 情報科学領域   \n",
       "4           67        0  奈良先端科学技術大学院大学 先端科学技術研究科 情報科学領域   \n",
       "...        ...      ...                             ...   \n",
       "10301      146      220                          うなぎの豊川   \n",
       "10302      146     1219                         株式会社久保組   \n",
       "10303      146     1220                         もとやま助産所   \n",
       "10304      112       18                    イオンモール奈良登美ヶ丘   \n",
       "10305        3      253                 ITTO個別指導学院 生駒台校   \n",
       "\n",
       "                     created_at                car  is_parking user_type  \n",
       "0     2022-04-01 09:42:00+09:00            iMiev02        True   student  \n",
       "1     2022-04-01 10:42:00+09:00            iMiev02        True   student  \n",
       "2     2022-04-01 11:30:00+09:00            iMiev02        True   student  \n",
       "3     2022-04-02 07:39:00+09:00            iMiev02        True   student  \n",
       "4     2022-04-02 08:39:00+09:00            iMiev02        True   student  \n",
       "...                         ...                ...         ...       ...  \n",
       "10301 2022-09-08 17:06:00+09:00  LEAF (STAFF ONLY)       False     staff  \n",
       "10302 2022-09-08 16:09:00+09:00  LEAF (STAFF ONLY)       False     staff  \n",
       "10303 2022-09-08 17:12:00+09:00  LEAF (STAFF ONLY)       False     staff  \n",
       "10304 2022-06-08 20:06:00+09:00            iMiev01       False   student  \n",
       "10305 2022-09-22 13:35:00+09:00  LEAF (STAFF ONLY)       False     staff  \n",
       "\n",
       "[10306 rows x 7 columns]"
      ]
     },
     "execution_count": 6,
     "metadata": {},
     "output_type": "execute_result"
    }
   ],
   "source": [
    "\"\"\"必要なデータ(user_df)を追加結合\"\"\"\n",
    "merged_df2 = pd.merge(merged_df1, user_df, on=[\"user_id\"])\n",
    "merged_df2"
   ]
  },
  {
   "cell_type": "code",
   "execution_count": 7,
   "metadata": {},
   "outputs": [
    {
     "data": {
      "text/html": [
       "<div>\n",
       "<style scoped>\n",
       "    .dataframe tbody tr th:only-of-type {\n",
       "        vertical-align: middle;\n",
       "    }\n",
       "\n",
       "    .dataframe tbody tr th {\n",
       "        vertical-align: top;\n",
       "    }\n",
       "\n",
       "    .dataframe thead th {\n",
       "        text-align: right;\n",
       "    }\n",
       "</style>\n",
       "<table border=\"1\" class=\"dataframe\">\n",
       "  <thead>\n",
       "    <tr style=\"text-align: right;\">\n",
       "      <th></th>\n",
       "      <th>user_id</th>\n",
       "      <th>spot_id</th>\n",
       "      <th>spot_name</th>\n",
       "      <th>created_at</th>\n",
       "      <th>car</th>\n",
       "      <th>is_parking</th>\n",
       "      <th>user_type</th>\n",
       "    </tr>\n",
       "  </thead>\n",
       "  <tbody>\n",
       "    <tr>\n",
       "      <th>0</th>\n",
       "      <td>67</td>\n",
       "      <td>37</td>\n",
       "      <td>サイクルショップ 高の原店</td>\n",
       "      <td>2022-04-01 12:02:00+09:00</td>\n",
       "      <td>iMiev02</td>\n",
       "      <td>False</td>\n",
       "      <td>student</td>\n",
       "    </tr>\n",
       "    <tr>\n",
       "      <th>1</th>\n",
       "      <td>67</td>\n",
       "      <td>37</td>\n",
       "      <td>サイクルショップ 高の原店</td>\n",
       "      <td>2022-05-23 15:44:00+09:00</td>\n",
       "      <td>iMiev02</td>\n",
       "      <td>False</td>\n",
       "      <td>student</td>\n",
       "    </tr>\n",
       "    <tr>\n",
       "      <th>2</th>\n",
       "      <td>67</td>\n",
       "      <td>70</td>\n",
       "      <td>EV充電スタンド</td>\n",
       "      <td>2022-04-01 14:25:00+09:00</td>\n",
       "      <td>iMiev02</td>\n",
       "      <td>False</td>\n",
       "      <td>student</td>\n",
       "    </tr>\n",
       "    <tr>\n",
       "      <th>3</th>\n",
       "      <td>67</td>\n",
       "      <td>70</td>\n",
       "      <td>EV充電スタンド</td>\n",
       "      <td>2022-04-01 15:25:00+09:00</td>\n",
       "      <td>iMiev02</td>\n",
       "      <td>False</td>\n",
       "      <td>student</td>\n",
       "    </tr>\n",
       "    <tr>\n",
       "      <th>4</th>\n",
       "      <td>67</td>\n",
       "      <td>70</td>\n",
       "      <td>EV充電スタンド</td>\n",
       "      <td>2022-04-11 08:41:00+09:00</td>\n",
       "      <td>iMiev02</td>\n",
       "      <td>False</td>\n",
       "      <td>student</td>\n",
       "    </tr>\n",
       "    <tr>\n",
       "      <th>...</th>\n",
       "      <td>...</td>\n",
       "      <td>...</td>\n",
       "      <td>...</td>\n",
       "      <td>...</td>\n",
       "      <td>...</td>\n",
       "      <td>...</td>\n",
       "      <td>...</td>\n",
       "    </tr>\n",
       "    <tr>\n",
       "      <th>3130</th>\n",
       "      <td>60</td>\n",
       "      <td>348</td>\n",
       "      <td>（社）奈良県警備業協会</td>\n",
       "      <td>2022-11-10 02:33:00+09:00</td>\n",
       "      <td>iMiev02</td>\n",
       "      <td>False</td>\n",
       "      <td>student</td>\n",
       "    </tr>\n",
       "    <tr>\n",
       "      <th>3131</th>\n",
       "      <td>60</td>\n",
       "      <td>348</td>\n",
       "      <td>（社）奈良県警備業協会</td>\n",
       "      <td>2022-11-11 02:14:00+09:00</td>\n",
       "      <td>iMiev01</td>\n",
       "      <td>False</td>\n",
       "      <td>student</td>\n",
       "    </tr>\n",
       "    <tr>\n",
       "      <th>3132</th>\n",
       "      <td>60</td>\n",
       "      <td>348</td>\n",
       "      <td>（社）奈良県警備業協会</td>\n",
       "      <td>2022-12-09 01:20:00+09:00</td>\n",
       "      <td>iMiev02</td>\n",
       "      <td>False</td>\n",
       "      <td>student</td>\n",
       "    </tr>\n",
       "    <tr>\n",
       "      <th>3133</th>\n",
       "      <td>110</td>\n",
       "      <td>159</td>\n",
       "      <td>ルーチェサンタルチア 生駒学園前店</td>\n",
       "      <td>2022-05-29 20:26:00+09:00</td>\n",
       "      <td>iMiev01</td>\n",
       "      <td>False</td>\n",
       "      <td>student</td>\n",
       "    </tr>\n",
       "    <tr>\n",
       "      <th>3134</th>\n",
       "      <td>112</td>\n",
       "      <td>18</td>\n",
       "      <td>イオンモール奈良登美ヶ丘</td>\n",
       "      <td>2022-06-08 20:06:00+09:00</td>\n",
       "      <td>iMiev01</td>\n",
       "      <td>False</td>\n",
       "      <td>student</td>\n",
       "    </tr>\n",
       "  </tbody>\n",
       "</table>\n",
       "<p>3135 rows × 7 columns</p>\n",
       "</div>"
      ],
      "text/plain": [
       "      user_id  spot_id          spot_name                created_at      car  \\\n",
       "0          67       37      サイクルショップ 高の原店 2022-04-01 12:02:00+09:00  iMiev02   \n",
       "1          67       37      サイクルショップ 高の原店 2022-05-23 15:44:00+09:00  iMiev02   \n",
       "2          67       70           EV充電スタンド 2022-04-01 14:25:00+09:00  iMiev02   \n",
       "3          67       70           EV充電スタンド 2022-04-01 15:25:00+09:00  iMiev02   \n",
       "4          67       70           EV充電スタンド 2022-04-11 08:41:00+09:00  iMiev02   \n",
       "...       ...      ...                ...                       ...      ...   \n",
       "3130       60      348        （社）奈良県警備業協会 2022-11-10 02:33:00+09:00  iMiev02   \n",
       "3131       60      348        （社）奈良県警備業協会 2022-11-11 02:14:00+09:00  iMiev01   \n",
       "3132       60      348        （社）奈良県警備業協会 2022-12-09 01:20:00+09:00  iMiev02   \n",
       "3133      110      159  ルーチェサンタルチア 生駒学園前店 2022-05-29 20:26:00+09:00  iMiev01   \n",
       "3134      112       18       イオンモール奈良登美ヶ丘 2022-06-08 20:06:00+09:00  iMiev01   \n",
       "\n",
       "      is_parking user_type  \n",
       "0          False   student  \n",
       "1          False   student  \n",
       "2          False   student  \n",
       "3          False   student  \n",
       "4          False   student  \n",
       "...          ...       ...  \n",
       "3130       False   student  \n",
       "3131       False   student  \n",
       "3132       False   student  \n",
       "3133       False   student  \n",
       "3134       False   student  \n",
       "\n",
       "[3135 rows x 7 columns]"
      ]
     },
     "execution_count": 7,
     "metadata": {},
     "output_type": "execute_result"
    }
   ],
   "source": [
    "\"\"\"データの整形(条件で絞り込む)\"\"\"\n",
    "filtered_df = merged_df2.query('is_parking == False & user_type == \"student\"').dropna().reset_index(drop=True)\n",
    "filtered_df"
   ]
  },
  {
   "cell_type": "code",
   "execution_count": 8,
   "metadata": {},
   "outputs": [
    {
     "data": {
      "text/html": [
       "<div>\n",
       "<style scoped>\n",
       "    .dataframe tbody tr th:only-of-type {\n",
       "        vertical-align: middle;\n",
       "    }\n",
       "\n",
       "    .dataframe tbody tr th {\n",
       "        vertical-align: top;\n",
       "    }\n",
       "\n",
       "    .dataframe thead th {\n",
       "        text-align: right;\n",
       "    }\n",
       "</style>\n",
       "<table border=\"1\" class=\"dataframe\">\n",
       "  <thead>\n",
       "    <tr style=\"text-align: right;\">\n",
       "      <th></th>\n",
       "      <th>user_id</th>\n",
       "      <th>spot_id</th>\n",
       "      <th>spot_name</th>\n",
       "      <th>created_at</th>\n",
       "      <th>car</th>\n",
       "      <th>is_parking</th>\n",
       "      <th>user_type</th>\n",
       "    </tr>\n",
       "  </thead>\n",
       "  <tbody>\n",
       "    <tr>\n",
       "      <th>0</th>\n",
       "      <td>78</td>\n",
       "      <td>70</td>\n",
       "      <td>EV充電スタンド</td>\n",
       "      <td>2022-07-20 17:26:00+09:00</td>\n",
       "      <td>iMiev01</td>\n",
       "      <td>False</td>\n",
       "      <td>student</td>\n",
       "    </tr>\n",
       "    <tr>\n",
       "      <th>1</th>\n",
       "      <td>78</td>\n",
       "      <td>48</td>\n",
       "      <td>奈良先端科学技術大学院大学 学生宿舎</td>\n",
       "      <td>2022-05-06 18:15:00+09:00</td>\n",
       "      <td>iMiev02</td>\n",
       "      <td>False</td>\n",
       "      <td>student</td>\n",
       "    </tr>\n",
       "    <tr>\n",
       "      <th>2</th>\n",
       "      <td>78</td>\n",
       "      <td>20</td>\n",
       "      <td>イオンモール高の原</td>\n",
       "      <td>2022-04-01 19:31:00+09:00</td>\n",
       "      <td>iMiev02</td>\n",
       "      <td>False</td>\n",
       "      <td>student</td>\n",
       "    </tr>\n",
       "    <tr>\n",
       "      <th>3</th>\n",
       "      <td>78</td>\n",
       "      <td>20</td>\n",
       "      <td>イオンモール高の原</td>\n",
       "      <td>2022-05-03 17:15:00+09:00</td>\n",
       "      <td>iMiev02</td>\n",
       "      <td>False</td>\n",
       "      <td>student</td>\n",
       "    </tr>\n",
       "    <tr>\n",
       "      <th>4</th>\n",
       "      <td>78</td>\n",
       "      <td>20</td>\n",
       "      <td>イオンモール高の原</td>\n",
       "      <td>2022-05-03 17:23:00+09:00</td>\n",
       "      <td>iMiev02</td>\n",
       "      <td>False</td>\n",
       "      <td>student</td>\n",
       "    </tr>\n",
       "    <tr>\n",
       "      <th>...</th>\n",
       "      <td>...</td>\n",
       "      <td>...</td>\n",
       "      <td>...</td>\n",
       "      <td>...</td>\n",
       "      <td>...</td>\n",
       "      <td>...</td>\n",
       "      <td>...</td>\n",
       "    </tr>\n",
       "    <tr>\n",
       "      <th>465</th>\n",
       "      <td>78</td>\n",
       "      <td>496</td>\n",
       "      <td>ハローワーク大和郡山</td>\n",
       "      <td>2023-03-04 16:27:00+09:00</td>\n",
       "      <td>iMiev02</td>\n",
       "      <td>False</td>\n",
       "      <td>student</td>\n",
       "    </tr>\n",
       "    <tr>\n",
       "      <th>466</th>\n",
       "      <td>78</td>\n",
       "      <td>496</td>\n",
       "      <td>ハローワーク大和郡山</td>\n",
       "      <td>2023-03-04 17:28:00+09:00</td>\n",
       "      <td>iMiev02</td>\n",
       "      <td>False</td>\n",
       "      <td>student</td>\n",
       "    </tr>\n",
       "    <tr>\n",
       "      <th>467</th>\n",
       "      <td>78</td>\n",
       "      <td>496</td>\n",
       "      <td>ハローワーク大和郡山</td>\n",
       "      <td>2023-03-04 18:28:00+09:00</td>\n",
       "      <td>iMiev02</td>\n",
       "      <td>False</td>\n",
       "      <td>student</td>\n",
       "    </tr>\n",
       "    <tr>\n",
       "      <th>468</th>\n",
       "      <td>78</td>\n",
       "      <td>763</td>\n",
       "      <td>マキノ健康センター・マキノ整骨院</td>\n",
       "      <td>2023-03-04 18:54:00+09:00</td>\n",
       "      <td>iMiev02</td>\n",
       "      <td>False</td>\n",
       "      <td>student</td>\n",
       "    </tr>\n",
       "    <tr>\n",
       "      <th>469</th>\n",
       "      <td>78</td>\n",
       "      <td>763</td>\n",
       "      <td>マキノ健康センター・マキノ整骨院</td>\n",
       "      <td>2023-03-04 19:01:00+09:00</td>\n",
       "      <td>iMiev02</td>\n",
       "      <td>False</td>\n",
       "      <td>student</td>\n",
       "    </tr>\n",
       "  </tbody>\n",
       "</table>\n",
       "<p>470 rows × 7 columns</p>\n",
       "</div>"
      ],
      "text/plain": [
       "     user_id  spot_id           spot_name                created_at      car  \\\n",
       "0         78       70            EV充電スタンド 2022-07-20 17:26:00+09:00  iMiev01   \n",
       "1         78       48  奈良先端科学技術大学院大学 学生宿舎 2022-05-06 18:15:00+09:00  iMiev02   \n",
       "2         78       20           イオンモール高の原 2022-04-01 19:31:00+09:00  iMiev02   \n",
       "3         78       20           イオンモール高の原 2022-05-03 17:15:00+09:00  iMiev02   \n",
       "4         78       20           イオンモール高の原 2022-05-03 17:23:00+09:00  iMiev02   \n",
       "..       ...      ...                 ...                       ...      ...   \n",
       "465       78      496          ハローワーク大和郡山 2023-03-04 16:27:00+09:00  iMiev02   \n",
       "466       78      496          ハローワーク大和郡山 2023-03-04 17:28:00+09:00  iMiev02   \n",
       "467       78      496          ハローワーク大和郡山 2023-03-04 18:28:00+09:00  iMiev02   \n",
       "468       78      763    マキノ健康センター・マキノ整骨院 2023-03-04 18:54:00+09:00  iMiev02   \n",
       "469       78      763    マキノ健康センター・マキノ整骨院 2023-03-04 19:01:00+09:00  iMiev02   \n",
       "\n",
       "     is_parking user_type  \n",
       "0         False   student  \n",
       "1         False   student  \n",
       "2         False   student  \n",
       "3         False   student  \n",
       "4         False   student  \n",
       "..          ...       ...  \n",
       "465       False   student  \n",
       "466       False   student  \n",
       "467       False   student  \n",
       "468       False   student  \n",
       "469       False   student  \n",
       "\n",
       "[470 rows x 7 columns]"
      ]
     },
     "execution_count": 8,
     "metadata": {},
     "output_type": "execute_result"
    }
   ],
   "source": [
    "\"\"\"最も多くの目的地を訪れたユーザーのデータを抽出\"\"\"\n",
    "most_used_user = filtered_df[\"user_id\"].value_counts().index[0]\n",
    "most_used_user_df = filtered_df.query('user_id == @most_used_user').reset_index(drop=True)\n",
    "most_used_user_df"
   ]
  },
  {
   "cell_type": "code",
   "execution_count": 14,
   "metadata": {},
   "outputs": [
    {
     "data": {
      "application/vnd.plotly.v1+json": {
       "config": {
        "plotlyServerURL": "https://plot.ly"
       },
       "data": [
        {
         "domain": {
          "x": [
           0,
           1
          ],
          "y": [
           0,
           1
          ]
         },
         "hovertemplate": "spot_name=%{label}<br>count=%{value}<extra></extra>",
         "labels": [
          "イオンモール高の原",
          "イオンモール奈良登美ヶ丘",
          "マクドナルド 白庭台店",
          "セブン-イレブン 生駒鹿畑町店",
          "セブン-イレブン 生駒北田原町店",
          "岡本矯正歯科",
          "ローソン 学研北生駒駅前店",
          "河童ラーメン本舗 押熊店",
          "ラフィネ",
          "駐輪場",
          "西向橋（バス）",
          "バーミヤン 生駒白庭台店",
          "ペットアミ生駒店",
          "ファミリーマート 生駒西白庭台店",
          "まさご",
          "1F屋内",
          "L.Park",
          "原歯科医院",
          "スシロー 精華町店",
          "アートスタジオ",
          "タイムズ木津駅前",
          "Honda Cars 奈良中央 学園前店",
          "吉野家 １６３号線生駒店",
          "揉みほぐし名家",
          "ダスキン菜畑サービスマスター・メリーメイド",
          "高山郵便局",
          "ガスト 生駒鹿の台東店",
          "ココカラファイン 北生駒店",
          "Champ TOMIGAOKA",
          "フラワーショップメープル",
          "アノラーメン製作所",
          "かつアンドかつ 精華町店",
          "奈良先端科学技術大学院大学 学生宿舎",
          "ルイジアナママ 奈良学園前店",
          "夢咲家",
          "木津川市役所 西部出張所",
          "二輪館P.F.D.",
          "ユクリ",
          "きんのぶた 北生駒上町店",
          "ゆららの湯 押熊店",
          "アサヒペットクリニック",
          "（株）建設技術研究所 奈良事務所",
          "ハローワーク大和郡山",
          "ピザーラ 高の原店",
          "化成品産業（株）",
          "石臼挽き手打ちそば 蕎麦人",
          "帝塚山中学校・高等学校",
          "大和織布（有）",
          "うなぎの豊川",
          "上村大橋",
          "フリルアイビューティー・北生駒店",
          "WAY書店 TSUTAYA奈良押熊店",
          "マキノ健康センター・マキノ整骨院",
          "美容室 ヘアサロン 絆-キズナ-",
          "Hair Make SNIPE",
          "ラ･ムー 東大阪店",
          "生駒北大和",
          "コメダ珈琲店 生駒店",
          "ひろせバレエ2ndスタジオ",
          "やまとホームサービス",
          "餃子の王将 押熊店",
          "auショップ 押熊",
          "登美ヶ丘リハビリテーション病院",
          "CARBOO",
          "お好み焼き・鉄板焼き きん太 奈良学園前店",
          "くろちゃん",
          "幸生堂薬局 生駒店",
          "オクムラ薬局",
          "カーコンビニ倶楽部 西大寺駅前店",
          "Dog salon kerico",
          "ヤンマーコイン精米所",
          "高山製菓株式会社",
          "マクドナルド ビエラタウンけいはんな店",
          "ナマステインディアレストラン",
          "EV充電スタンド",
          "どいクリニック",
          "セブン-イレブン 奈良押熊町店",
          "コスモ石油 B-cleセンターけいはんな光台 SS (上原成商事)",
          "生駒北大和郵便局",
          "タイムズのB コメリパワー生駒店駐車場",
          "越後 押熊店",
          "コスモ石油 セルフ登美ヶ丘 SS (コスモ石油販売大阪カンパニー)",
          "登美ヶ丘駅前駐車場",
          "ヤマト運輸 学研営業所（あすか野）",
          "日向整骨院木津院",
          "ケーズデンキ 高の原店",
          "つけ麺 無心",
          "ツーリスト企画 高の原営業所",
          "あげあげ奈良・富士屋",
          "ダイソー SUCオークワ生駒上町店",
          "（株）サンケア",
          "株式会社 マティック．",
          "樋の平（バス）",
          "ピザハット ならやま大通り押熊店"
         ],
         "legendgroup": "",
         "name": "",
         "showlegend": true,
         "textinfo": "percent+label",
         "textposition": "inside",
         "type": "pie",
         "values": [
          72,
          36,
          26,
          18,
          16,
          15,
          14,
          12,
          11,
          10,
          10,
          9,
          8,
          8,
          8,
          7,
          7,
          7,
          7,
          6,
          6,
          6,
          5,
          5,
          5,
          5,
          4,
          4,
          4,
          4,
          4,
          4,
          4,
          4,
          3,
          3,
          3,
          3,
          3,
          3,
          3,
          3,
          3,
          3,
          3,
          2,
          2,
          2,
          2,
          2,
          2,
          2,
          2,
          2,
          2,
          2,
          2,
          2,
          2,
          2,
          2,
          2,
          1,
          1,
          1,
          1,
          1,
          1,
          1,
          1,
          1,
          1,
          1,
          1,
          1,
          1,
          1,
          1,
          1,
          1,
          1,
          1,
          1,
          1,
          1,
          1,
          1,
          1,
          1,
          1,
          1,
          1,
          1,
          1
         ]
        }
       ],
       "layout": {
        "legend": {
         "tracegroupgap": 0
        },
        "template": {
         "data": {
          "bar": [
           {
            "error_x": {
             "color": "#2a3f5f"
            },
            "error_y": {
             "color": "#2a3f5f"
            },
            "marker": {
             "line": {
              "color": "#E5ECF6",
              "width": 0.5
             },
             "pattern": {
              "fillmode": "overlay",
              "size": 10,
              "solidity": 0.2
             }
            },
            "type": "bar"
           }
          ],
          "barpolar": [
           {
            "marker": {
             "line": {
              "color": "#E5ECF6",
              "width": 0.5
             },
             "pattern": {
              "fillmode": "overlay",
              "size": 10,
              "solidity": 0.2
             }
            },
            "type": "barpolar"
           }
          ],
          "carpet": [
           {
            "aaxis": {
             "endlinecolor": "#2a3f5f",
             "gridcolor": "white",
             "linecolor": "white",
             "minorgridcolor": "white",
             "startlinecolor": "#2a3f5f"
            },
            "baxis": {
             "endlinecolor": "#2a3f5f",
             "gridcolor": "white",
             "linecolor": "white",
             "minorgridcolor": "white",
             "startlinecolor": "#2a3f5f"
            },
            "type": "carpet"
           }
          ],
          "choropleth": [
           {
            "colorbar": {
             "outlinewidth": 0,
             "ticks": ""
            },
            "type": "choropleth"
           }
          ],
          "contour": [
           {
            "colorbar": {
             "outlinewidth": 0,
             "ticks": ""
            },
            "colorscale": [
             [
              0,
              "#0d0887"
             ],
             [
              0.1111111111111111,
              "#46039f"
             ],
             [
              0.2222222222222222,
              "#7201a8"
             ],
             [
              0.3333333333333333,
              "#9c179e"
             ],
             [
              0.4444444444444444,
              "#bd3786"
             ],
             [
              0.5555555555555556,
              "#d8576b"
             ],
             [
              0.6666666666666666,
              "#ed7953"
             ],
             [
              0.7777777777777778,
              "#fb9f3a"
             ],
             [
              0.8888888888888888,
              "#fdca26"
             ],
             [
              1,
              "#f0f921"
             ]
            ],
            "type": "contour"
           }
          ],
          "contourcarpet": [
           {
            "colorbar": {
             "outlinewidth": 0,
             "ticks": ""
            },
            "type": "contourcarpet"
           }
          ],
          "heatmap": [
           {
            "colorbar": {
             "outlinewidth": 0,
             "ticks": ""
            },
            "colorscale": [
             [
              0,
              "#0d0887"
             ],
             [
              0.1111111111111111,
              "#46039f"
             ],
             [
              0.2222222222222222,
              "#7201a8"
             ],
             [
              0.3333333333333333,
              "#9c179e"
             ],
             [
              0.4444444444444444,
              "#bd3786"
             ],
             [
              0.5555555555555556,
              "#d8576b"
             ],
             [
              0.6666666666666666,
              "#ed7953"
             ],
             [
              0.7777777777777778,
              "#fb9f3a"
             ],
             [
              0.8888888888888888,
              "#fdca26"
             ],
             [
              1,
              "#f0f921"
             ]
            ],
            "type": "heatmap"
           }
          ],
          "heatmapgl": [
           {
            "colorbar": {
             "outlinewidth": 0,
             "ticks": ""
            },
            "colorscale": [
             [
              0,
              "#0d0887"
             ],
             [
              0.1111111111111111,
              "#46039f"
             ],
             [
              0.2222222222222222,
              "#7201a8"
             ],
             [
              0.3333333333333333,
              "#9c179e"
             ],
             [
              0.4444444444444444,
              "#bd3786"
             ],
             [
              0.5555555555555556,
              "#d8576b"
             ],
             [
              0.6666666666666666,
              "#ed7953"
             ],
             [
              0.7777777777777778,
              "#fb9f3a"
             ],
             [
              0.8888888888888888,
              "#fdca26"
             ],
             [
              1,
              "#f0f921"
             ]
            ],
            "type": "heatmapgl"
           }
          ],
          "histogram": [
           {
            "marker": {
             "pattern": {
              "fillmode": "overlay",
              "size": 10,
              "solidity": 0.2
             }
            },
            "type": "histogram"
           }
          ],
          "histogram2d": [
           {
            "colorbar": {
             "outlinewidth": 0,
             "ticks": ""
            },
            "colorscale": [
             [
              0,
              "#0d0887"
             ],
             [
              0.1111111111111111,
              "#46039f"
             ],
             [
              0.2222222222222222,
              "#7201a8"
             ],
             [
              0.3333333333333333,
              "#9c179e"
             ],
             [
              0.4444444444444444,
              "#bd3786"
             ],
             [
              0.5555555555555556,
              "#d8576b"
             ],
             [
              0.6666666666666666,
              "#ed7953"
             ],
             [
              0.7777777777777778,
              "#fb9f3a"
             ],
             [
              0.8888888888888888,
              "#fdca26"
             ],
             [
              1,
              "#f0f921"
             ]
            ],
            "type": "histogram2d"
           }
          ],
          "histogram2dcontour": [
           {
            "colorbar": {
             "outlinewidth": 0,
             "ticks": ""
            },
            "colorscale": [
             [
              0,
              "#0d0887"
             ],
             [
              0.1111111111111111,
              "#46039f"
             ],
             [
              0.2222222222222222,
              "#7201a8"
             ],
             [
              0.3333333333333333,
              "#9c179e"
             ],
             [
              0.4444444444444444,
              "#bd3786"
             ],
             [
              0.5555555555555556,
              "#d8576b"
             ],
             [
              0.6666666666666666,
              "#ed7953"
             ],
             [
              0.7777777777777778,
              "#fb9f3a"
             ],
             [
              0.8888888888888888,
              "#fdca26"
             ],
             [
              1,
              "#f0f921"
             ]
            ],
            "type": "histogram2dcontour"
           }
          ],
          "mesh3d": [
           {
            "colorbar": {
             "outlinewidth": 0,
             "ticks": ""
            },
            "type": "mesh3d"
           }
          ],
          "parcoords": [
           {
            "line": {
             "colorbar": {
              "outlinewidth": 0,
              "ticks": ""
             }
            },
            "type": "parcoords"
           }
          ],
          "pie": [
           {
            "automargin": true,
            "type": "pie"
           }
          ],
          "scatter": [
           {
            "fillpattern": {
             "fillmode": "overlay",
             "size": 10,
             "solidity": 0.2
            },
            "type": "scatter"
           }
          ],
          "scatter3d": [
           {
            "line": {
             "colorbar": {
              "outlinewidth": 0,
              "ticks": ""
             }
            },
            "marker": {
             "colorbar": {
              "outlinewidth": 0,
              "ticks": ""
             }
            },
            "type": "scatter3d"
           }
          ],
          "scattercarpet": [
           {
            "marker": {
             "colorbar": {
              "outlinewidth": 0,
              "ticks": ""
             }
            },
            "type": "scattercarpet"
           }
          ],
          "scattergeo": [
           {
            "marker": {
             "colorbar": {
              "outlinewidth": 0,
              "ticks": ""
             }
            },
            "type": "scattergeo"
           }
          ],
          "scattergl": [
           {
            "marker": {
             "colorbar": {
              "outlinewidth": 0,
              "ticks": ""
             }
            },
            "type": "scattergl"
           }
          ],
          "scattermapbox": [
           {
            "marker": {
             "colorbar": {
              "outlinewidth": 0,
              "ticks": ""
             }
            },
            "type": "scattermapbox"
           }
          ],
          "scatterpolar": [
           {
            "marker": {
             "colorbar": {
              "outlinewidth": 0,
              "ticks": ""
             }
            },
            "type": "scatterpolar"
           }
          ],
          "scatterpolargl": [
           {
            "marker": {
             "colorbar": {
              "outlinewidth": 0,
              "ticks": ""
             }
            },
            "type": "scatterpolargl"
           }
          ],
          "scatterternary": [
           {
            "marker": {
             "colorbar": {
              "outlinewidth": 0,
              "ticks": ""
             }
            },
            "type": "scatterternary"
           }
          ],
          "surface": [
           {
            "colorbar": {
             "outlinewidth": 0,
             "ticks": ""
            },
            "colorscale": [
             [
              0,
              "#0d0887"
             ],
             [
              0.1111111111111111,
              "#46039f"
             ],
             [
              0.2222222222222222,
              "#7201a8"
             ],
             [
              0.3333333333333333,
              "#9c179e"
             ],
             [
              0.4444444444444444,
              "#bd3786"
             ],
             [
              0.5555555555555556,
              "#d8576b"
             ],
             [
              0.6666666666666666,
              "#ed7953"
             ],
             [
              0.7777777777777778,
              "#fb9f3a"
             ],
             [
              0.8888888888888888,
              "#fdca26"
             ],
             [
              1,
              "#f0f921"
             ]
            ],
            "type": "surface"
           }
          ],
          "table": [
           {
            "cells": {
             "fill": {
              "color": "#EBF0F8"
             },
             "line": {
              "color": "white"
             }
            },
            "header": {
             "fill": {
              "color": "#C8D4E3"
             },
             "line": {
              "color": "white"
             }
            },
            "type": "table"
           }
          ]
         },
         "layout": {
          "annotationdefaults": {
           "arrowcolor": "#2a3f5f",
           "arrowhead": 0,
           "arrowwidth": 1
          },
          "autotypenumbers": "strict",
          "coloraxis": {
           "colorbar": {
            "outlinewidth": 0,
            "ticks": ""
           }
          },
          "colorscale": {
           "diverging": [
            [
             0,
             "#8e0152"
            ],
            [
             0.1,
             "#c51b7d"
            ],
            [
             0.2,
             "#de77ae"
            ],
            [
             0.3,
             "#f1b6da"
            ],
            [
             0.4,
             "#fde0ef"
            ],
            [
             0.5,
             "#f7f7f7"
            ],
            [
             0.6,
             "#e6f5d0"
            ],
            [
             0.7,
             "#b8e186"
            ],
            [
             0.8,
             "#7fbc41"
            ],
            [
             0.9,
             "#4d9221"
            ],
            [
             1,
             "#276419"
            ]
           ],
           "sequential": [
            [
             0,
             "#0d0887"
            ],
            [
             0.1111111111111111,
             "#46039f"
            ],
            [
             0.2222222222222222,
             "#7201a8"
            ],
            [
             0.3333333333333333,
             "#9c179e"
            ],
            [
             0.4444444444444444,
             "#bd3786"
            ],
            [
             0.5555555555555556,
             "#d8576b"
            ],
            [
             0.6666666666666666,
             "#ed7953"
            ],
            [
             0.7777777777777778,
             "#fb9f3a"
            ],
            [
             0.8888888888888888,
             "#fdca26"
            ],
            [
             1,
             "#f0f921"
            ]
           ],
           "sequentialminus": [
            [
             0,
             "#0d0887"
            ],
            [
             0.1111111111111111,
             "#46039f"
            ],
            [
             0.2222222222222222,
             "#7201a8"
            ],
            [
             0.3333333333333333,
             "#9c179e"
            ],
            [
             0.4444444444444444,
             "#bd3786"
            ],
            [
             0.5555555555555556,
             "#d8576b"
            ],
            [
             0.6666666666666666,
             "#ed7953"
            ],
            [
             0.7777777777777778,
             "#fb9f3a"
            ],
            [
             0.8888888888888888,
             "#fdca26"
            ],
            [
             1,
             "#f0f921"
            ]
           ]
          },
          "colorway": [
           "#636efa",
           "#EF553B",
           "#00cc96",
           "#ab63fa",
           "#FFA15A",
           "#19d3f3",
           "#FF6692",
           "#B6E880",
           "#FF97FF",
           "#FECB52"
          ],
          "font": {
           "color": "#2a3f5f"
          },
          "geo": {
           "bgcolor": "white",
           "lakecolor": "white",
           "landcolor": "#E5ECF6",
           "showlakes": true,
           "showland": true,
           "subunitcolor": "white"
          },
          "hoverlabel": {
           "align": "left"
          },
          "hovermode": "closest",
          "mapbox": {
           "style": "light"
          },
          "paper_bgcolor": "white",
          "plot_bgcolor": "#E5ECF6",
          "polar": {
           "angularaxis": {
            "gridcolor": "white",
            "linecolor": "white",
            "ticks": ""
           },
           "bgcolor": "#E5ECF6",
           "radialaxis": {
            "gridcolor": "white",
            "linecolor": "white",
            "ticks": ""
           }
          },
          "scene": {
           "xaxis": {
            "backgroundcolor": "#E5ECF6",
            "gridcolor": "white",
            "gridwidth": 2,
            "linecolor": "white",
            "showbackground": true,
            "ticks": "",
            "zerolinecolor": "white"
           },
           "yaxis": {
            "backgroundcolor": "#E5ECF6",
            "gridcolor": "white",
            "gridwidth": 2,
            "linecolor": "white",
            "showbackground": true,
            "ticks": "",
            "zerolinecolor": "white"
           },
           "zaxis": {
            "backgroundcolor": "#E5ECF6",
            "gridcolor": "white",
            "gridwidth": 2,
            "linecolor": "white",
            "showbackground": true,
            "ticks": "",
            "zerolinecolor": "white"
           }
          },
          "shapedefaults": {
           "line": {
            "color": "#2a3f5f"
           }
          },
          "ternary": {
           "aaxis": {
            "gridcolor": "white",
            "linecolor": "white",
            "ticks": ""
           },
           "baxis": {
            "gridcolor": "white",
            "linecolor": "white",
            "ticks": ""
           },
           "bgcolor": "#E5ECF6",
           "caxis": {
            "gridcolor": "white",
            "linecolor": "white",
            "ticks": ""
           }
          },
          "title": {
           "x": 0.05
          },
          "xaxis": {
           "automargin": true,
           "gridcolor": "white",
           "linecolor": "white",
           "ticks": "",
           "title": {
            "standoff": 15
           },
           "zerolinecolor": "white",
           "zerolinewidth": 2
          },
          "yaxis": {
           "automargin": true,
           "gridcolor": "white",
           "linecolor": "white",
           "ticks": "",
           "title": {
            "standoff": 15
           },
           "zerolinecolor": "white",
           "zerolinewidth": 2
          }
         }
        },
        "title": {
         "text": "Ranking by destination of students who visited the most destinations"
        }
       }
      }
     },
     "metadata": {},
     "output_type": "display_data"
    }
   ],
   "source": [
    "\"\"\"spot_nameを集計して、円グラフにする\"\"\"\n",
    "import plotly.express as px\n",
    "most_used_user_spot_df = most_used_user_df[\"spot_name\"].value_counts().reset_index()\n",
    "most_used_user_spot_df.columns = [\"spot_name\", \"count\"]\n",
    "fig = px.pie(most_used_user_spot_df, values=\"count\", names=\"spot_name\", title=\"Ranking by destination of students who visited the most destinations\")\n",
    "fig.update_traces(textposition='inside', textinfo='percent+label') \n",
    "fig.show()"
   ]
  },
  {
   "cell_type": "code",
   "execution_count": null,
   "metadata": {},
   "outputs": [],
   "source": []
  }
 ],
 "metadata": {
  "kernelspec": {
   "display_name": "Python 3",
   "language": "python",
   "name": "python3"
  },
  "language_info": {
   "codemirror_mode": {
    "name": "ipython",
    "version": 3
   },
   "file_extension": ".py",
   "mimetype": "text/x-python",
   "name": "python",
   "nbconvert_exporter": "python",
   "pygments_lexer": "ipython3",
   "version": "3.9.10"
  }
 },
 "nbformat": 4,
 "nbformat_minor": 2
}
