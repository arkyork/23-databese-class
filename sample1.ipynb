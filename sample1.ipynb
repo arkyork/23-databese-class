{
 "cells": [
  {
   "cell_type": "code",
   "execution_count": 2,
   "metadata": {},
   "outputs": [
    {
     "data": {
      "text/html": [
       "<div>\n",
       "<style scoped>\n",
       "    .dataframe tbody tr th:only-of-type {\n",
       "        vertical-align: middle;\n",
       "    }\n",
       "\n",
       "    .dataframe tbody tr th {\n",
       "        vertical-align: top;\n",
       "    }\n",
       "\n",
       "    .dataframe thead th {\n",
       "        text-align: right;\n",
       "    }\n",
       "</style>\n",
       "<table border=\"1\" class=\"dataframe\">\n",
       "  <thead>\n",
       "    <tr style=\"text-align: right;\">\n",
       "      <th></th>\n",
       "      <th>spot_id</th>\n",
       "      <th>spot_name</th>\n",
       "      <th>lat</th>\n",
       "      <th>lon</th>\n",
       "      <th>count</th>\n",
       "      <th>spot_types</th>\n",
       "      <th>is_parking</th>\n",
       "    </tr>\n",
       "  </thead>\n",
       "  <tbody>\n",
       "    <tr>\n",
       "      <th>0</th>\n",
       "      <td>0</td>\n",
       "      <td>奈良先端科学技術大学院大学 先端科学技術研究科 情報科学領域</td>\n",
       "      <td>34.731630</td>\n",
       "      <td>135.734690</td>\n",
       "      <td>14677</td>\n",
       "      <td>[university, point_of_interest, establishment]</td>\n",
       "      <td>True</td>\n",
       "    </tr>\n",
       "    <tr>\n",
       "      <th>1</th>\n",
       "      <td>1</td>\n",
       "      <td>学際融合領域研究棟２号館</td>\n",
       "      <td>34.732260</td>\n",
       "      <td>135.732430</td>\n",
       "      <td>5131</td>\n",
       "      <td>[university, point_of_interest, establishment]</td>\n",
       "      <td>True</td>\n",
       "    </tr>\n",
       "    <tr>\n",
       "      <th>2</th>\n",
       "      <td>2</td>\n",
       "      <td>物質創成科学領域E棟</td>\n",
       "      <td>34.730270</td>\n",
       "      <td>135.733930</td>\n",
       "      <td>4957</td>\n",
       "      <td>[university, point_of_interest, establishment]</td>\n",
       "      <td>True</td>\n",
       "    </tr>\n",
       "    <tr>\n",
       "      <th>3</th>\n",
       "      <td>3</td>\n",
       "      <td>学研奈良登美ヶ丘駅</td>\n",
       "      <td>34.726800</td>\n",
       "      <td>135.754380</td>\n",
       "      <td>3829</td>\n",
       "      <td>[spa, point_of_interest, establishment]</td>\n",
       "      <td>True</td>\n",
       "    </tr>\n",
       "    <tr>\n",
       "      <th>4</th>\n",
       "      <td>4</td>\n",
       "      <td>学際融合領域研究棟1号館</td>\n",
       "      <td>34.730930</td>\n",
       "      <td>135.735370</td>\n",
       "      <td>2679</td>\n",
       "      <td>[university, point_of_interest, establishment]</td>\n",
       "      <td>True</td>\n",
       "    </tr>\n",
       "    <tr>\n",
       "      <th>...</th>\n",
       "      <td>...</td>\n",
       "      <td>...</td>\n",
       "      <td>...</td>\n",
       "      <td>...</td>\n",
       "      <td>...</td>\n",
       "      <td>...</td>\n",
       "      <td>...</td>\n",
       "    </tr>\n",
       "    <tr>\n",
       "      <th>1307</th>\n",
       "      <td>1307</td>\n",
       "      <td>御幸荘花結び</td>\n",
       "      <td>34.796163</td>\n",
       "      <td>135.252296</td>\n",
       "      <td>1</td>\n",
       "      <td>[lodging, restaurant, point_of_interest, food,...</td>\n",
       "      <td>False</td>\n",
       "    </tr>\n",
       "    <tr>\n",
       "      <th>1308</th>\n",
       "      <td>1308</td>\n",
       "      <td>美容室リュバンドール(RUBAN D'OR)</td>\n",
       "      <td>34.727334</td>\n",
       "      <td>135.715298</td>\n",
       "      <td>1</td>\n",
       "      <td>[hair_care, beauty_salon, point_of_interest, e...</td>\n",
       "      <td>False</td>\n",
       "    </tr>\n",
       "    <tr>\n",
       "      <th>1309</th>\n",
       "      <td>1309</td>\n",
       "      <td>こぐま薬局西登美ヶ丘店</td>\n",
       "      <td>34.716811</td>\n",
       "      <td>135.745120</td>\n",
       "      <td>1</td>\n",
       "      <td>[pharmacy, health, store, point_of_interest, e...</td>\n",
       "      <td>False</td>\n",
       "    </tr>\n",
       "    <tr>\n",
       "      <th>1310</th>\n",
       "      <td>1310</td>\n",
       "      <td>スーパーヤオヒコ 北大和店</td>\n",
       "      <td>34.726044</td>\n",
       "      <td>135.728961</td>\n",
       "      <td>1</td>\n",
       "      <td>[supermarket, grocery_or_supermarket, store, f...</td>\n",
       "      <td>False</td>\n",
       "    </tr>\n",
       "    <tr>\n",
       "      <th>1311</th>\n",
       "      <td>1311</td>\n",
       "      <td>中野司朗レディースクリニック</td>\n",
       "      <td>34.724713</td>\n",
       "      <td>135.764325</td>\n",
       "      <td>1</td>\n",
       "      <td>[doctor, point_of_interest, health, establishm...</td>\n",
       "      <td>False</td>\n",
       "    </tr>\n",
       "  </tbody>\n",
       "</table>\n",
       "<p>1312 rows × 7 columns</p>\n",
       "</div>"
      ],
      "text/plain": [
       "      spot_id                       spot_name        lat         lon  count  \\\n",
       "0           0  奈良先端科学技術大学院大学 先端科学技術研究科 情報科学領域  34.731630  135.734690  14677   \n",
       "1           1                    学際融合領域研究棟２号館  34.732260  135.732430   5131   \n",
       "2           2                      物質創成科学領域E棟  34.730270  135.733930   4957   \n",
       "3           3                       学研奈良登美ヶ丘駅  34.726800  135.754380   3829   \n",
       "4           4                    学際融合領域研究棟1号館  34.730930  135.735370   2679   \n",
       "...       ...                             ...        ...         ...    ...   \n",
       "1307     1307                          御幸荘花結び  34.796163  135.252296      1   \n",
       "1308     1308          美容室リュバンドール(RUBAN D'OR)  34.727334  135.715298      1   \n",
       "1309     1309                     こぐま薬局西登美ヶ丘店  34.716811  135.745120      1   \n",
       "1310     1310                   スーパーヤオヒコ 北大和店  34.726044  135.728961      1   \n",
       "1311     1311                  中野司朗レディースクリニック  34.724713  135.764325      1   \n",
       "\n",
       "                                             spot_types  is_parking  \n",
       "0        [university, point_of_interest, establishment]        True  \n",
       "1        [university, point_of_interest, establishment]        True  \n",
       "2        [university, point_of_interest, establishment]        True  \n",
       "3               [spa, point_of_interest, establishment]        True  \n",
       "4        [university, point_of_interest, establishment]        True  \n",
       "...                                                 ...         ...  \n",
       "1307  [lodging, restaurant, point_of_interest, food,...       False  \n",
       "1308  [hair_care, beauty_salon, point_of_interest, e...       False  \n",
       "1309  [pharmacy, health, store, point_of_interest, e...       False  \n",
       "1310  [supermarket, grocery_or_supermarket, store, f...       False  \n",
       "1311  [doctor, point_of_interest, health, establishm...       False  \n",
       "\n",
       "[1312 rows x 7 columns]"
      ]
     },
     "execution_count": 2,
     "metadata": {},
     "output_type": "execute_result"
    }
   ],
   "source": [
    "import json\n",
    "import pandas as pd\n",
    "\n",
    "spot_df = pd.read_csv(\"./spot.csv\")\n",
    "history_df = pd.read_csv(\"./history.csv\", parse_dates=[\"started_at\", \"ended_at\"])\n",
    "trip_df = pd.read_csv(\"./trip.csv\", parse_dates=[\"created_at\"])\n",
    "user_df = pd.read_csv(\"./user.csv\")\n",
    "\n",
    "spot_df[\"spot_types\"] = spot_df[\"spot_types\"].map(json.loads)\n",
    "\n",
    "spot_df\n"
   ]
  },
  {
   "cell_type": "code",
   "execution_count": 3,
   "metadata": {},
   "outputs": [
    {
     "data": {
      "text/html": [
       "<div>\n",
       "<style scoped>\n",
       "    .dataframe tbody tr th:only-of-type {\n",
       "        vertical-align: middle;\n",
       "    }\n",
       "\n",
       "    .dataframe tbody tr th {\n",
       "        vertical-align: top;\n",
       "    }\n",
       "\n",
       "    .dataframe thead th {\n",
       "        text-align: right;\n",
       "    }\n",
       "</style>\n",
       "<table border=\"1\" class=\"dataframe\">\n",
       "  <thead>\n",
       "    <tr style=\"text-align: right;\">\n",
       "      <th></th>\n",
       "      <th>history_id</th>\n",
       "      <th>started_at</th>\n",
       "      <th>ended_at</th>\n",
       "      <th>from_parking_lot</th>\n",
       "      <th>to_parking_lot</th>\n",
       "      <th>car</th>\n",
       "      <th>passengers_count</th>\n",
       "      <th>distance</th>\n",
       "      <th>user_id</th>\n",
       "    </tr>\n",
       "  </thead>\n",
       "  <tbody>\n",
       "    <tr>\n",
       "      <th>0</th>\n",
       "      <td>202204_0</td>\n",
       "      <td>2022-04-01 09:02:00</td>\n",
       "      <td>2022-04-01 12:37:00</td>\n",
       "      <td>NAIST</td>\n",
       "      <td>STATION</td>\n",
       "      <td>iMiev02</td>\n",
       "      <td>3</td>\n",
       "      <td>12.155552539654046</td>\n",
       "      <td>67</td>\n",
       "    </tr>\n",
       "    <tr>\n",
       "      <th>1</th>\n",
       "      <td>202204_1</td>\n",
       "      <td>2022-04-01 11:55:00</td>\n",
       "      <td>2022-04-01 13:11:00</td>\n",
       "      <td>NAIST</td>\n",
       "      <td>NAIST</td>\n",
       "      <td>LEAF (STAFF ONLY)</td>\n",
       "      <td>1</td>\n",
       "      <td>14.526907989995856</td>\n",
       "      <td>2</td>\n",
       "    </tr>\n",
       "    <tr>\n",
       "      <th>2</th>\n",
       "      <td>202204_2</td>\n",
       "      <td>2022-04-01 12:41:00</td>\n",
       "      <td>2022-04-01 18:36:00</td>\n",
       "      <td>STATION</td>\n",
       "      <td>NAIST</td>\n",
       "      <td>iMiev02</td>\n",
       "      <td>3</td>\n",
       "      <td>22.336619868894612</td>\n",
       "      <td>67</td>\n",
       "    </tr>\n",
       "    <tr>\n",
       "      <th>3</th>\n",
       "      <td>202204_3</td>\n",
       "      <td>2022-04-01 17:44:00</td>\n",
       "      <td>2022-04-01 18:00:00</td>\n",
       "      <td>NAIST</td>\n",
       "      <td>NAIST</td>\n",
       "      <td>LEAF (STAFF ONLY)</td>\n",
       "      <td>4</td>\n",
       "      <td>2.6650702613564605</td>\n",
       "      <td>8</td>\n",
       "    </tr>\n",
       "    <tr>\n",
       "      <th>4</th>\n",
       "      <td>202204_4</td>\n",
       "      <td>2022-04-01 18:43:00</td>\n",
       "      <td>2022-04-01 20:25:00</td>\n",
       "      <td>NAIST</td>\n",
       "      <td>NAIST</td>\n",
       "      <td>iMiev02</td>\n",
       "      <td>2</td>\n",
       "      <td>10</td>\n",
       "      <td>78</td>\n",
       "    </tr>\n",
       "    <tr>\n",
       "      <th>...</th>\n",
       "      <td>...</td>\n",
       "      <td>...</td>\n",
       "      <td>...</td>\n",
       "      <td>...</td>\n",
       "      <td>...</td>\n",
       "      <td>...</td>\n",
       "      <td>...</td>\n",
       "      <td>...</td>\n",
       "      <td>...</td>\n",
       "    </tr>\n",
       "    <tr>\n",
       "      <th>2423</th>\n",
       "      <td>202303_247</td>\n",
       "      <td>2023-03-31 17:22:00</td>\n",
       "      <td>2023-03-31 18:23:00</td>\n",
       "      <td>NAIST</td>\n",
       "      <td>NAIST</td>\n",
       "      <td>LEAF (STAFF ONLY)</td>\n",
       "      <td>1</td>\n",
       "      <td>8.268403888105079</td>\n",
       "      <td>118</td>\n",
       "    </tr>\n",
       "    <tr>\n",
       "      <th>2424</th>\n",
       "      <td>202303_248</td>\n",
       "      <td>2023-03-31 17:44:00</td>\n",
       "      <td>2023-03-31 18:25:00</td>\n",
       "      <td>NAIST</td>\n",
       "      <td>STATION</td>\n",
       "      <td>BMW (STAFF ONLY)</td>\n",
       "      <td>1</td>\n",
       "      <td>2.7994774190750578</td>\n",
       "      <td>137</td>\n",
       "    </tr>\n",
       "    <tr>\n",
       "      <th>2425</th>\n",
       "      <td>202303_249</td>\n",
       "      <td>2023-03-31 18:51:00</td>\n",
       "      <td>2023-03-31 20:43:00</td>\n",
       "      <td>NAIST</td>\n",
       "      <td>NAIST</td>\n",
       "      <td>LEAF (STAFF ONLY)</td>\n",
       "      <td>1</td>\n",
       "      <td>5.700650492866569</td>\n",
       "      <td>9</td>\n",
       "    </tr>\n",
       "    <tr>\n",
       "      <th>2426</th>\n",
       "      <td>202303_250</td>\n",
       "      <td>2023-03-31 19:22:00</td>\n",
       "      <td>2023-04-01 05:14:00</td>\n",
       "      <td>NAIST</td>\n",
       "      <td>NAIST</td>\n",
       "      <td>iMiev02</td>\n",
       "      <td>1</td>\n",
       "      <td>6.73965243379831</td>\n",
       "      <td>156</td>\n",
       "    </tr>\n",
       "    <tr>\n",
       "      <th>2427</th>\n",
       "      <td>202303_251</td>\n",
       "      <td>2023-03-31 23:05:00</td>\n",
       "      <td>2023-04-01 05:41:00</td>\n",
       "      <td>NAIST</td>\n",
       "      <td>NAIST</td>\n",
       "      <td>iMiev01</td>\n",
       "      <td>1</td>\n",
       "      <td>20.32017307143929</td>\n",
       "      <td>129</td>\n",
       "    </tr>\n",
       "  </tbody>\n",
       "</table>\n",
       "<p>2428 rows × 9 columns</p>\n",
       "</div>"
      ],
      "text/plain": [
       "      history_id          started_at            ended_at from_parking_lot  \\\n",
       "0       202204_0 2022-04-01 09:02:00 2022-04-01 12:37:00            NAIST   \n",
       "1       202204_1 2022-04-01 11:55:00 2022-04-01 13:11:00            NAIST   \n",
       "2       202204_2 2022-04-01 12:41:00 2022-04-01 18:36:00          STATION   \n",
       "3       202204_3 2022-04-01 17:44:00 2022-04-01 18:00:00            NAIST   \n",
       "4       202204_4 2022-04-01 18:43:00 2022-04-01 20:25:00            NAIST   \n",
       "...          ...                 ...                 ...              ...   \n",
       "2423  202303_247 2023-03-31 17:22:00 2023-03-31 18:23:00            NAIST   \n",
       "2424  202303_248 2023-03-31 17:44:00 2023-03-31 18:25:00            NAIST   \n",
       "2425  202303_249 2023-03-31 18:51:00 2023-03-31 20:43:00            NAIST   \n",
       "2426  202303_250 2023-03-31 19:22:00 2023-04-01 05:14:00            NAIST   \n",
       "2427  202303_251 2023-03-31 23:05:00 2023-04-01 05:41:00            NAIST   \n",
       "\n",
       "     to_parking_lot                car  passengers_count            distance  \\\n",
       "0           STATION            iMiev02                 3  12.155552539654046   \n",
       "1             NAIST  LEAF (STAFF ONLY)                 1  14.526907989995856   \n",
       "2             NAIST            iMiev02                 3  22.336619868894612   \n",
       "3             NAIST  LEAF (STAFF ONLY)                 4  2.6650702613564605   \n",
       "4             NAIST            iMiev02                 2                  10   \n",
       "...             ...                ...               ...                 ...   \n",
       "2423          NAIST  LEAF (STAFF ONLY)                 1   8.268403888105079   \n",
       "2424        STATION   BMW (STAFF ONLY)                 1  2.7994774190750578   \n",
       "2425          NAIST  LEAF (STAFF ONLY)                 1   5.700650492866569   \n",
       "2426          NAIST            iMiev02                 1    6.73965243379831   \n",
       "2427          NAIST            iMiev01                 1   20.32017307143929   \n",
       "\n",
       "      user_id  \n",
       "0          67  \n",
       "1           2  \n",
       "2          67  \n",
       "3           8  \n",
       "4          78  \n",
       "...       ...  \n",
       "2423      118  \n",
       "2424      137  \n",
       "2425        9  \n",
       "2426      156  \n",
       "2427      129  \n",
       "\n",
       "[2428 rows x 9 columns]"
      ]
     },
     "execution_count": 3,
     "metadata": {},
     "output_type": "execute_result"
    }
   ],
   "source": [
    "history_df\n"
   ]
  },
  {
   "cell_type": "code",
   "execution_count": 4,
   "metadata": {},
   "outputs": [
    {
     "name": "stdout",
     "output_type": "stream",
     "text": [
      "9\n"
     ]
    },
    {
     "data": {
      "text/html": [
       "<div>\n",
       "<style scoped>\n",
       "    .dataframe tbody tr th:only-of-type {\n",
       "        vertical-align: middle;\n",
       "    }\n",
       "\n",
       "    .dataframe tbody tr th {\n",
       "        vertical-align: top;\n",
       "    }\n",
       "\n",
       "    .dataframe thead th {\n",
       "        text-align: right;\n",
       "    }\n",
       "</style>\n",
       "<table border=\"1\" class=\"dataframe\">\n",
       "  <thead>\n",
       "    <tr style=\"text-align: right;\">\n",
       "      <th></th>\n",
       "      <th>created_at</th>\n",
       "      <th>lat</th>\n",
       "      <th>lon</th>\n",
       "      <th>car</th>\n",
       "      <th>user_id</th>\n",
       "      <th>spot_id</th>\n",
       "      <th>history_id</th>\n",
       "    </tr>\n",
       "  </thead>\n",
       "  <tbody>\n",
       "    <tr>\n",
       "      <th>0</th>\n",
       "      <td>2022-04-01 09:42:00+09:00</td>\n",
       "      <td>34.731556</td>\n",
       "      <td>135.734905</td>\n",
       "      <td>iMiev02</td>\n",
       "      <td>67</td>\n",
       "      <td>0</td>\n",
       "      <td>202204_0</td>\n",
       "    </tr>\n",
       "    <tr>\n",
       "      <th>1</th>\n",
       "      <td>2022-04-01 10:42:00+09:00</td>\n",
       "      <td>34.731556</td>\n",
       "      <td>135.734905</td>\n",
       "      <td>iMiev02</td>\n",
       "      <td>67</td>\n",
       "      <td>0</td>\n",
       "      <td>202204_0</td>\n",
       "    </tr>\n",
       "    <tr>\n",
       "      <th>2</th>\n",
       "      <td>2022-04-01 11:30:00+09:00</td>\n",
       "      <td>34.731605</td>\n",
       "      <td>135.734936</td>\n",
       "      <td>iMiev02</td>\n",
       "      <td>67</td>\n",
       "      <td>0</td>\n",
       "      <td>202204_0</td>\n",
       "    </tr>\n",
       "    <tr>\n",
       "      <th>3</th>\n",
       "      <td>2022-04-01 12:02:00+09:00</td>\n",
       "      <td>34.725523</td>\n",
       "      <td>135.789171</td>\n",
       "      <td>iMiev02</td>\n",
       "      <td>67</td>\n",
       "      <td>37</td>\n",
       "      <td>202204_0</td>\n",
       "    </tr>\n",
       "    <tr>\n",
       "      <th>4</th>\n",
       "      <td>2022-04-01 13:41:00+09:00</td>\n",
       "      <td>34.726816</td>\n",
       "      <td>135.754365</td>\n",
       "      <td>iMiev02</td>\n",
       "      <td>67</td>\n",
       "      <td>3</td>\n",
       "      <td>202204_2</td>\n",
       "    </tr>\n",
       "    <tr>\n",
       "      <th>...</th>\n",
       "      <td>...</td>\n",
       "      <td>...</td>\n",
       "      <td>...</td>\n",
       "      <td>...</td>\n",
       "      <td>...</td>\n",
       "      <td>...</td>\n",
       "      <td>...</td>\n",
       "    </tr>\n",
       "    <tr>\n",
       "      <th>10301</th>\n",
       "      <td>2023-03-31 19:48:00+09:00</td>\n",
       "      <td>34.726518</td>\n",
       "      <td>135.715110</td>\n",
       "      <td>LEAF (STAFF ONLY)</td>\n",
       "      <td>9</td>\n",
       "      <td>68</td>\n",
       "      <td>202303_249</td>\n",
       "    </tr>\n",
       "    <tr>\n",
       "      <th>10302</th>\n",
       "      <td>2023-03-31 20:09:00+09:00</td>\n",
       "      <td>34.726648</td>\n",
       "      <td>135.754558</td>\n",
       "      <td>iMiev01</td>\n",
       "      <td>149</td>\n",
       "      <td>3</td>\n",
       "      <td>202303_245</td>\n",
       "    </tr>\n",
       "    <tr>\n",
       "      <th>10303</th>\n",
       "      <td>2023-03-31 20:16:00+09:00</td>\n",
       "      <td>34.731648</td>\n",
       "      <td>135.734976</td>\n",
       "      <td>iMiev02</td>\n",
       "      <td>156</td>\n",
       "      <td>0</td>\n",
       "      <td>202303_250</td>\n",
       "    </tr>\n",
       "    <tr>\n",
       "      <th>10304</th>\n",
       "      <td>2023-03-31 21:17:00+09:00</td>\n",
       "      <td>34.731648</td>\n",
       "      <td>135.734976</td>\n",
       "      <td>iMiev02</td>\n",
       "      <td>156</td>\n",
       "      <td>0</td>\n",
       "      <td>202303_250</td>\n",
       "    </tr>\n",
       "    <tr>\n",
       "      <th>10305</th>\n",
       "      <td>2023-03-31 22:17:00+09:00</td>\n",
       "      <td>34.731648</td>\n",
       "      <td>135.734976</td>\n",
       "      <td>iMiev02</td>\n",
       "      <td>156</td>\n",
       "      <td>0</td>\n",
       "      <td>202303_250</td>\n",
       "    </tr>\n",
       "  </tbody>\n",
       "</table>\n",
       "<p>10306 rows × 7 columns</p>\n",
       "</div>"
      ],
      "text/plain": [
       "                     created_at        lat         lon                car  \\\n",
       "0     2022-04-01 09:42:00+09:00  34.731556  135.734905            iMiev02   \n",
       "1     2022-04-01 10:42:00+09:00  34.731556  135.734905            iMiev02   \n",
       "2     2022-04-01 11:30:00+09:00  34.731605  135.734936            iMiev02   \n",
       "3     2022-04-01 12:02:00+09:00  34.725523  135.789171            iMiev02   \n",
       "4     2022-04-01 13:41:00+09:00  34.726816  135.754365            iMiev02   \n",
       "...                         ...        ...         ...                ...   \n",
       "10301 2023-03-31 19:48:00+09:00  34.726518  135.715110  LEAF (STAFF ONLY)   \n",
       "10302 2023-03-31 20:09:00+09:00  34.726648  135.754558            iMiev01   \n",
       "10303 2023-03-31 20:16:00+09:00  34.731648  135.734976            iMiev02   \n",
       "10304 2023-03-31 21:17:00+09:00  34.731648  135.734976            iMiev02   \n",
       "10305 2023-03-31 22:17:00+09:00  34.731648  135.734976            iMiev02   \n",
       "\n",
       "       user_id  spot_id  history_id  \n",
       "0           67        0    202204_0  \n",
       "1           67        0    202204_0  \n",
       "2           67        0    202204_0  \n",
       "3           67       37    202204_0  \n",
       "4           67        3    202204_2  \n",
       "...        ...      ...         ...  \n",
       "10301        9       68  202303_249  \n",
       "10302      149        3  202303_245  \n",
       "10303      156        0  202303_250  \n",
       "10304      156        0  202303_250  \n",
       "10305      156        0  202303_250  \n",
       "\n",
       "[10306 rows x 7 columns]"
      ]
     },
     "execution_count": 4,
     "metadata": {},
     "output_type": "execute_result"
    }
   ],
   "source": [
    "print(trip_df.iloc[0][\"created_at\"].hour)\n",
    "\n",
    "trip_df\n"
   ]
  },
  {
   "cell_type": "code",
   "execution_count": 5,
   "metadata": {},
   "outputs": [
    {
     "data": {
      "text/html": [
       "<div>\n",
       "<style scoped>\n",
       "    .dataframe tbody tr th:only-of-type {\n",
       "        vertical-align: middle;\n",
       "    }\n",
       "\n",
       "    .dataframe tbody tr th {\n",
       "        vertical-align: top;\n",
       "    }\n",
       "\n",
       "    .dataframe thead th {\n",
       "        text-align: right;\n",
       "    }\n",
       "</style>\n",
       "<table border=\"1\" class=\"dataframe\">\n",
       "  <thead>\n",
       "    <tr style=\"text-align: right;\">\n",
       "      <th></th>\n",
       "      <th>user_id</th>\n",
       "      <th>user_type</th>\n",
       "    </tr>\n",
       "  </thead>\n",
       "  <tbody>\n",
       "    <tr>\n",
       "      <th>0</th>\n",
       "      <td>1</td>\n",
       "      <td>staff</td>\n",
       "    </tr>\n",
       "    <tr>\n",
       "      <th>1</th>\n",
       "      <td>2</td>\n",
       "      <td>staff</td>\n",
       "    </tr>\n",
       "    <tr>\n",
       "      <th>2</th>\n",
       "      <td>3</td>\n",
       "      <td>staff</td>\n",
       "    </tr>\n",
       "    <tr>\n",
       "      <th>3</th>\n",
       "      <td>4</td>\n",
       "      <td>staff</td>\n",
       "    </tr>\n",
       "    <tr>\n",
       "      <th>4</th>\n",
       "      <td>5</td>\n",
       "      <td>staff</td>\n",
       "    </tr>\n",
       "    <tr>\n",
       "      <th>...</th>\n",
       "      <td>...</td>\n",
       "      <td>...</td>\n",
       "    </tr>\n",
       "    <tr>\n",
       "      <th>190</th>\n",
       "      <td>191</td>\n",
       "      <td>student</td>\n",
       "    </tr>\n",
       "    <tr>\n",
       "      <th>191</th>\n",
       "      <td>192</td>\n",
       "      <td>student</td>\n",
       "    </tr>\n",
       "    <tr>\n",
       "      <th>192</th>\n",
       "      <td>193</td>\n",
       "      <td>student</td>\n",
       "    </tr>\n",
       "    <tr>\n",
       "      <th>193</th>\n",
       "      <td>194</td>\n",
       "      <td>student</td>\n",
       "    </tr>\n",
       "    <tr>\n",
       "      <th>194</th>\n",
       "      <td>195</td>\n",
       "      <td>staff</td>\n",
       "    </tr>\n",
       "  </tbody>\n",
       "</table>\n",
       "<p>195 rows × 2 columns</p>\n",
       "</div>"
      ],
      "text/plain": [
       "     user_id user_type\n",
       "0          1     staff\n",
       "1          2     staff\n",
       "2          3     staff\n",
       "3          4     staff\n",
       "4          5     staff\n",
       "..       ...       ...\n",
       "190      191   student\n",
       "191      192   student\n",
       "192      193   student\n",
       "193      194   student\n",
       "194      195     staff\n",
       "\n",
       "[195 rows x 2 columns]"
      ]
     },
     "execution_count": 5,
     "metadata": {},
     "output_type": "execute_result"
    }
   ],
   "source": [
    "user_df\n"
   ]
  },
  {
   "cell_type": "code",
   "execution_count": 6,
   "metadata": {},
   "outputs": [
    {
     "data": {
      "text/html": [
       "<div>\n",
       "<style scoped>\n",
       "    .dataframe tbody tr th:only-of-type {\n",
       "        vertical-align: middle;\n",
       "    }\n",
       "\n",
       "    .dataframe tbody tr th {\n",
       "        vertical-align: top;\n",
       "    }\n",
       "\n",
       "    .dataframe thead th {\n",
       "        text-align: right;\n",
       "    }\n",
       "</style>\n",
       "<table border=\"1\" class=\"dataframe\">\n",
       "  <thead>\n",
       "    <tr style=\"text-align: right;\">\n",
       "      <th></th>\n",
       "      <th>created_at</th>\n",
       "      <th>lat</th>\n",
       "      <th>lon</th>\n",
       "      <th>car</th>\n",
       "      <th>user_id</th>\n",
       "      <th>spot_id</th>\n",
       "      <th>history_id</th>\n",
       "      <th>user_type</th>\n",
       "    </tr>\n",
       "  </thead>\n",
       "  <tbody>\n",
       "    <tr>\n",
       "      <th>0</th>\n",
       "      <td>2022-04-01 09:42:00+09:00</td>\n",
       "      <td>34.731556</td>\n",
       "      <td>135.734905</td>\n",
       "      <td>iMiev02</td>\n",
       "      <td>67</td>\n",
       "      <td>0</td>\n",
       "      <td>202204_0</td>\n",
       "      <td>student</td>\n",
       "    </tr>\n",
       "    <tr>\n",
       "      <th>1</th>\n",
       "      <td>2022-04-01 10:42:00+09:00</td>\n",
       "      <td>34.731556</td>\n",
       "      <td>135.734905</td>\n",
       "      <td>iMiev02</td>\n",
       "      <td>67</td>\n",
       "      <td>0</td>\n",
       "      <td>202204_0</td>\n",
       "      <td>student</td>\n",
       "    </tr>\n",
       "    <tr>\n",
       "      <th>2</th>\n",
       "      <td>2022-04-01 11:30:00+09:00</td>\n",
       "      <td>34.731605</td>\n",
       "      <td>135.734936</td>\n",
       "      <td>iMiev02</td>\n",
       "      <td>67</td>\n",
       "      <td>0</td>\n",
       "      <td>202204_0</td>\n",
       "      <td>student</td>\n",
       "    </tr>\n",
       "    <tr>\n",
       "      <th>3</th>\n",
       "      <td>2022-04-01 12:02:00+09:00</td>\n",
       "      <td>34.725523</td>\n",
       "      <td>135.789171</td>\n",
       "      <td>iMiev02</td>\n",
       "      <td>67</td>\n",
       "      <td>37</td>\n",
       "      <td>202204_0</td>\n",
       "      <td>student</td>\n",
       "    </tr>\n",
       "    <tr>\n",
       "      <th>4</th>\n",
       "      <td>2022-04-01 13:41:00+09:00</td>\n",
       "      <td>34.726816</td>\n",
       "      <td>135.754365</td>\n",
       "      <td>iMiev02</td>\n",
       "      <td>67</td>\n",
       "      <td>3</td>\n",
       "      <td>202204_2</td>\n",
       "      <td>student</td>\n",
       "    </tr>\n",
       "    <tr>\n",
       "      <th>...</th>\n",
       "      <td>...</td>\n",
       "      <td>...</td>\n",
       "      <td>...</td>\n",
       "      <td>...</td>\n",
       "      <td>...</td>\n",
       "      <td>...</td>\n",
       "      <td>...</td>\n",
       "      <td>...</td>\n",
       "    </tr>\n",
       "    <tr>\n",
       "      <th>10301</th>\n",
       "      <td>2023-03-31 21:17:00+09:00</td>\n",
       "      <td>34.731648</td>\n",
       "      <td>135.734976</td>\n",
       "      <td>iMiev02</td>\n",
       "      <td>156</td>\n",
       "      <td>0</td>\n",
       "      <td>202303_250</td>\n",
       "      <td>student</td>\n",
       "    </tr>\n",
       "    <tr>\n",
       "      <th>10302</th>\n",
       "      <td>2023-03-31 22:17:00+09:00</td>\n",
       "      <td>34.731648</td>\n",
       "      <td>135.734976</td>\n",
       "      <td>iMiev02</td>\n",
       "      <td>156</td>\n",
       "      <td>0</td>\n",
       "      <td>202303_250</td>\n",
       "      <td>student</td>\n",
       "    </tr>\n",
       "    <tr>\n",
       "      <th>10303</th>\n",
       "      <td>2023-03-28 21:03:00+09:00</td>\n",
       "      <td>34.731645</td>\n",
       "      <td>135.734993</td>\n",
       "      <td>iMiev01</td>\n",
       "      <td>157</td>\n",
       "      <td>0</td>\n",
       "      <td>202303_229</td>\n",
       "      <td>student</td>\n",
       "    </tr>\n",
       "    <tr>\n",
       "      <th>10304</th>\n",
       "      <td>2023-03-28 21:16:00+09:00</td>\n",
       "      <td>34.734265</td>\n",
       "      <td>135.735971</td>\n",
       "      <td>iMiev01</td>\n",
       "      <td>157</td>\n",
       "      <td>11</td>\n",
       "      <td>202303_229</td>\n",
       "      <td>student</td>\n",
       "    </tr>\n",
       "    <tr>\n",
       "      <th>10305</th>\n",
       "      <td>2023-03-28 22:22:00+09:00</td>\n",
       "      <td>34.726633</td>\n",
       "      <td>135.715918</td>\n",
       "      <td>iMiev01</td>\n",
       "      <td>157</td>\n",
       "      <td>13</td>\n",
       "      <td>202303_229</td>\n",
       "      <td>student</td>\n",
       "    </tr>\n",
       "  </tbody>\n",
       "</table>\n",
       "<p>10306 rows × 8 columns</p>\n",
       "</div>"
      ],
      "text/plain": [
       "                     created_at        lat         lon      car  user_id  \\\n",
       "0     2022-04-01 09:42:00+09:00  34.731556  135.734905  iMiev02       67   \n",
       "1     2022-04-01 10:42:00+09:00  34.731556  135.734905  iMiev02       67   \n",
       "2     2022-04-01 11:30:00+09:00  34.731605  135.734936  iMiev02       67   \n",
       "3     2022-04-01 12:02:00+09:00  34.725523  135.789171  iMiev02       67   \n",
       "4     2022-04-01 13:41:00+09:00  34.726816  135.754365  iMiev02       67   \n",
       "...                         ...        ...         ...      ...      ...   \n",
       "10301 2023-03-31 21:17:00+09:00  34.731648  135.734976  iMiev02      156   \n",
       "10302 2023-03-31 22:17:00+09:00  34.731648  135.734976  iMiev02      156   \n",
       "10303 2023-03-28 21:03:00+09:00  34.731645  135.734993  iMiev01      157   \n",
       "10304 2023-03-28 21:16:00+09:00  34.734265  135.735971  iMiev01      157   \n",
       "10305 2023-03-28 22:22:00+09:00  34.726633  135.715918  iMiev01      157   \n",
       "\n",
       "       spot_id  history_id user_type  \n",
       "0            0    202204_0   student  \n",
       "1            0    202204_0   student  \n",
       "2            0    202204_0   student  \n",
       "3           37    202204_0   student  \n",
       "4            3    202204_2   student  \n",
       "...        ...         ...       ...  \n",
       "10301        0  202303_250   student  \n",
       "10302        0  202303_250   student  \n",
       "10303        0  202303_229   student  \n",
       "10304       11  202303_229   student  \n",
       "10305       13  202303_229   student  \n",
       "\n",
       "[10306 rows x 8 columns]"
      ]
     },
     "execution_count": 6,
     "metadata": {},
     "output_type": "execute_result"
    }
   ],
   "source": [
    "# テーブル結合(内部結合)\n",
    "trip_df.merge(user_df, on=\"user_id\")\n"
   ]
  },
  {
   "cell_type": "code",
   "execution_count": 30,
   "metadata": {},
   "outputs": [
    {
     "data": {
      "application/vnd.plotly.v1+json": {
       "config": {
        "plotlyServerURL": "https://plot.ly"
       },
       "data": [
        {
         "alignmentgroup": "True",
         "hovertemplate": "spot_name=%{x}<br>行った回数=%{y}<extra></extra>",
         "legendgroup": "",
         "marker": {
          "color": "#636efa",
          "pattern": {
           "shape": ""
          }
         },
         "name": "",
         "offsetgroup": "",
         "orientation": "v",
         "showlegend": false,
         "textposition": "auto",
         "type": "bar",
         "x": [
          "イオンモール高の原",
          "ラフィネ",
          "イオンモール高の原",
          "ローソン 学研北生駒駅前店",
          "岡本矯正歯科",
          "吉野家 １６３号線生駒店",
          "イオンモール奈良登美ヶ丘",
          "かつアンドかつ 精華町店",
          "奈良先端科学技術大学院大学 学生宿舎",
          "トマツナ弦楽器研究所",
          "ココカラファイン 北生駒店",
          "グリーンラボ",
          "みらん 奈良店",
          "吉祥寺鍼灸接骨院",
          "高山郵便局",
          "きんのぶた 北生駒上町店",
          "ジャパン 奈良押熊店",
          "セブン-イレブン 生駒鹿畑町店",
          "マクドナルド 白庭台店",
          "生駒北大和",
          "アノラーメン製作所",
          "セブン-イレブン 生駒鹿畑町店",
          "ドトールコーヒーショップ アピタタウンけいはんな店",
          "河童ラーメン本舗 押熊店",
          "スシロー 精華町店",
          "キリン堂 生駒店",
          "揉みほぐし名家",
          "ビッグボーイ 奈良平城店",
          "原歯科医院",
          "松島塗装工業株式会社",
          "セブン-イレブン 生駒北田原町店",
          "餃子の王将 押熊店",
          "ラ・ムー 奈良二名店",
          "イオンモール高の原",
          "ガスト 生駒鹿の台東店",
          "奈良先端科学技術大学院大学 学生宿舎",
          "あづまケータリングサービス おしくま店",
          "EVERY BODY 北大和店",
          "EV充電スタンド",
          "もりはなてん 生駒上町店",
          "島ヶ原温泉 やぶっちゃの湯",
          "ジョイフル 京都精華町店",
          "北大和体育施設 体育館",
          "イオンモール奈良登美ヶ丘",
          "ファミリーマート 生駒西白庭台店",
          "あづまケータリングサービス おしくま店",
          "auショップ 押熊",
          "愛和エクステリア",
          "ゆららの湯 押熊店",
          "すぎもと鍼灸接骨院",
          "生命科学研究基盤センター",
          "辰巳マンション",
          "いだ矯正歯科",
          "ガネーシャマハル",
          "バーミヤン 生駒白庭台店",
          "Naist Student Dormitory 7",
          "studio KUMO",
          "奈良先端科学技術大学院大学 学生宿舎",
          "ハローストレージ学研奈良登美ヶ丘",
          "1F屋内",
          "イオンモール奈良登美ヶ丘",
          "Vent-Cloud LOCUS",
          "花の木",
          "ブーランジェ ヤマダ",
          "コスモ石油 B-cleセンターけいはんな光台 SS (上原成商事)",
          "ジャパン 奈良尼ヶ辻店",
          "Honda Cars 奈良中央 学園前店",
          "生駒北大和郵便局",
          "トリカヂ イッパイ",
          "イオンモール高の原",
          "Amazon Hub ロッカー - スギ_富雄三松店",
          "化成品産業（株）",
          "フラワーショップメープル",
          "二輪館P.F.D.",
          "くま教育センター 奈良教室",
          "帝塚山大学前（バス）",
          "鳥鳥 学園前店",
          "進弘フードサービス株式会社",
          "くろんど池自然公園",
          "ユーポス生駒店",
          "駐車場",
          "ファミリーマート 生駒上町店",
          "生鮮＆業務スーパーボトルワールドOK 押熊店",
          "ユクリ",
          "たけまるホール（旧中央公民館）",
          "朝日自動車工業（株） リース事業部",
          "京都府宇治市立伊勢田小学校 育成学級",
          "かしき屋 福茂千",
          "居間焼肉 百欒 登美ヶ丘店",
          "西向橋（バス）",
          "フリルアイビューティー・北生駒店",
          "ルビアン",
          "ラフィネ",
          "麺屋じすり駐車場",
          "マルエスペットヒルステップ生駒店",
          "Champ TOMIGAOKA",
          "ALOHA CAFE Pineapple 生駒店",
          "イオンモール奈良登美ヶ丘",
          "合同会社ヒートテック",
          "手芸センタードリーム ムサシ京都八幡店",
          "07オートリース",
          "まちのカフェVIVO",
          "まえはし整骨院",
          "山陵八幡神社",
          "EV充電スタンド",
          "Panasonic shop （株）パナックイトウ",
          "コイン精米機",
          "ルイジアナママ 奈良学園前店",
          "コーナン精華台店",
          "アサヒペットクリニック",
          "山桜の園 休憩広場",
          "伊勢津ドライ万代菜畑店",
          "生駒市立井出山体育館",
          "iPhone・スマホ修理カメラアサヒ ならファミリー店",
          "登美ヶ丘駅前駐車場",
          "近鉄高の原駅前-レンタルバイク[ベストBike®︎]",
          "（株）建設技術研究所 奈良事務所",
          "ドミノ・ピザ生駒店",
          "ハローワーク大和郡山",
          "川端風太朗",
          "春日橋",
          "駐車場",
          "シティロックジム大和郡山店",
          "株式会社三木ホーム",
          "ABCハウジング 奈良・登美ヶ丘住宅公園",
          "Shanti Yoga",
          "イオンモール高の原",
          "学研奈良ピュア保育園",
          "サイクルショップ 高の原店",
          "高の原駅",
          "Hair Make SNIPE",
          "スポーツクラブ＆スパ ルネサンス 登美ヶ丘",
          "ルーチェサンタルチア 生駒学園前店",
          "イオンモール高の原",
          "上村大橋",
          "マクドナルド 白庭台店",
          "駐輪場",
          "美容室 ヘアサロン 絆-キズナ-",
          "生駒山万葉歌碑 (生駒市体育協会S.C.)",
          "L.Park",
          "ウエルシア相楽精華台店",
          "セブン-イレブン 生駒山崎町店",
          "セブン-イレブン 奈良中登美ヶ丘３丁目店",
          "幸庵 京都乾谷店",
          "なか卯 生駒俵口店",
          "（株）ベルコ 東生駒駅前ホール",
          "（株）サンケア",
          "くら寿司 精華町店",
          "（株）伊勢津ドライ 坊城店",
          "つけ麺 無心",
          "K-TERRACE学研奈良登美ヶ丘",
          "ケニス 門真ディストリビューションセンター（門真D.C.）",
          "ダイソー SUCオークワ生駒上町店",
          "シャンテ ムーラン",
          "BARKBOX",
          "スシロー 精華町店",
          "四季の森公園（バス）",
          "ファミリーマート 生駒西白庭台店",
          "HORIC",
          "株式会社Arch",
          "ダイソー 枚方307店",
          "コメダ珈琲店 生駒店",
          "西向橋（バス）",
          "BOOKOFF 奈良押熊店",
          "ALOHA CAFE Pineapple 生駒店",
          "コウキ商事 富雄文化教室",
          "コストコホールセール 京都八幡倉庫店",
          "ヤマト運輸 学研営業所（あすか野）",
          "生命科学研究基盤センター",
          "鹿ノ台佐保保育園",
          "天ぷら 吉四六",
          "夢咲家",
          "ジョリーパスタ 押熊店",
          "EV充電スタンド",
          "うなぎの豊川",
          "アートスタジオ",
          "マキノ健康センター・マキノ整骨院",
          "セブン銀行ATM",
          "ミスタードーナツ ベルテラスいこまショップ",
          "ピザハット ならやま大通り押熊店",
          "MARUWAアパマン富雄店",
          "ココス 東生駒店",
          "イオンモール奈良登美ヶ丘",
          "はま寿司 奈良押熊店",
          "かわにし歯科医院",
          "東登美ヶ丘5号街区公園",
          "駐車場",
          "越後 押熊店",
          "MEGAドン・キホーテUNY精華台店",
          "データオンストア",
          "吉田機電",
          "ビストロ イブー",
          "契約駐車場みやけ",
          "ノムラクリーニング 谷田店",
          "カーコンビニ倶楽部 スーパーショップ 奈良押熊店",
          "ベル不動産コンサルタント（株）",
          "EV充電スタンド",
          "セレミューズ(株)",
          "やました医院",
          "天理教生和分教会",
          "アーバンハウス㈱",
          "奈良 野菜ソムリエの店 Rokumeikan",
          "グルナディエ",
          "ラウンドワンスタジアム 城東放出店",
          "和食さと 新大宮店",
          "生駒市立あすか野小学校",
          "松のや 南森町店",
          "百味菜酒家 きなり",
          "愛知陸運（株） 京都営業所",
          "登美ケ丘第２パーキング",
          "奈良学園大学",
          "フォレストデイサービスセンター鹿ノ台",
          "コイン精米所",
          "まいどおおきに食堂 奈良 四条大路食堂",
          "クリーニングのフランス屋 生駒店",
          "スマイルホテル奈良",
          "車椅子用駐車場",
          "Cauda",
          "登美ヶ丘治療院",
          "たま木亭",
          "スマートパーク ミナーラ 第1（ｺｲﾝﾊﾟｰｷﾝｸﾞ）",
          "円生院",
          "Dog salon kerico",
          "サーティワンアイスクリーム 大和郡山店",
          "奈良商工会議所",
          "駐車場",
          "幼保連携型認定こども園 生駒ピュアこども園",
          "駐車場",
          "地蔵尊(与楽)",
          "アグリステーション飛鳥 無料駐車場",
          "個別指導の明光義塾 学研奈良登美ヶ丘教室",
          "島ヶ原温泉 やぶっちゃの湯",
          "登美ヶ丘リハビリテーション病院",
          "WAY書店 TSUTAYA奈良押熊店",
          "Amazon ロッカー - スギ_登美ケ丘店",
          "コスモ石油 B-cleセンターけいはんな光台 SS (上原成商事)",
          "ドイツ菓子 ゲベック 本店",
          "帝塚山中学校・高等学校",
          "EV充電スタンド",
          "07オートリース",
          "くら寿司 奈良学園前店",
          "ペットアミ生駒店",
          "真弓橋（バス）",
          "まさご",
          "奈良先端科学技術大学院大学（バス）",
          "ゆうちょ銀行 大阪支店 ファミリーマート西登美ヶ丘店内出張所",
          "たけうち動物病院",
          "apollostation セルフ秋篠SS （シェル石油大阪発売所）",
          "関西電力送配電登美ヶ丘変電所",
          "イオンモール高の原",
          "ユニクロ 押熊店",
          "グランツしかはた",
          "びっくりドンキー 奈良学園前店",
          "タイムズのB コメリパワー生駒店駐車場",
          "生駒郵便局集荷",
          "ゆうちょ銀行 大阪支店 ファミリーマート精華光台店内出張所",
          "オクムラ薬局",
          "白庭台薬局",
          "frau",
          "イオンモール高の原",
          "ファミリーモア八重桜 押熊館",
          "ハートフルビレッジ西大寺Ⅱ",
          "株式会社エイチツーオー生駒支店",
          "かつ満 生駒西白庭台店",
          "かわの整骨院",
          "イオンモール奈良登美ヶ丘",
          "ラストル",
          "（株）アドスペース",
          "法壽舎",
          "セカンドストリート奈良法華寺店",
          "進学ゼミ・エスト",
          "コスモ石油 セルフ登美ヶ丘 SS (コスモ石油販売大阪カンパニー)",
          "ローソン銀行ＡＴＭ 木津川山城共同出張所",
          "きむら歯科",
          "メルセデス・ベンツ奈良学園前",
          "ダスキン菜畑サービスマスター・メリーメイド",
          "VENTIMIGLIA（ヴァンティミリア）",
          "木津川市役所 西部出張所",
          "あげあげ奈良・富士屋",
          "ムツミ",
          "麺舎 いっとう 奈良富雄店",
          "トヨタEV充電スタンド",
          "マクドナルド ビエラタウンけいはんな店",
          "カラオケレインボー精華光台店",
          "幸生堂薬局 生駒店",
          "ローソン銀行ＡＴＭ 奈良三条大路共同出張所",
          "（社）奈良県警備業協会",
          "大和アルミ工業（株）",
          "ミレニアムホール",
          "城南タクシー",
          "芝田自動車 奈良スマイル店",
          "まいどおおきに食堂 秋篠食堂",
          "生駒駅南自動車駐車場",
          "うどん＋食彩 いな田",
          "くら寿司 生駒店"
         ],
         "xaxis": "x",
         "y": [
          50,
          49,
          34,
          28,
          25,
          23,
          23,
          22,
          21,
          21,
          21,
          20,
          20,
          20,
          20,
          19,
          19,
          19,
          17,
          17,
          16,
          16,
          15,
          14,
          14,
          14,
          13,
          13,
          13,
          13,
          13,
          12,
          11,
          11,
          11,
          11,
          11,
          11,
          10,
          10,
          10,
          10,
          10,
          10,
          10,
          9,
          9,
          9,
          9,
          8,
          8,
          8,
          8,
          8,
          8,
          8,
          7,
          7,
          7,
          7,
          7,
          7,
          7,
          7,
          6,
          6,
          6,
          6,
          6,
          6,
          6,
          6,
          6,
          5,
          5,
          5,
          5,
          5,
          5,
          5,
          5,
          5,
          5,
          5,
          5,
          4,
          4,
          4,
          4,
          4,
          4,
          4,
          4,
          4,
          4,
          4,
          4,
          4,
          4,
          4,
          4,
          4,
          4,
          4,
          4,
          3,
          3,
          3,
          3,
          3,
          3,
          3,
          3,
          3,
          3,
          3,
          3,
          3,
          3,
          3,
          3,
          3,
          3,
          3,
          3,
          3,
          3,
          3,
          3,
          3,
          3,
          3,
          3,
          3,
          3,
          3,
          3,
          3,
          2,
          2,
          2,
          2,
          2,
          2,
          2,
          2,
          2,
          2,
          2,
          2,
          2,
          2,
          2,
          2,
          2,
          2,
          2,
          2,
          2,
          2,
          2,
          2,
          2,
          2,
          2,
          2,
          2,
          2,
          2,
          2,
          2,
          2,
          2,
          2,
          2,
          2,
          2,
          2,
          2,
          2,
          2,
          2,
          2,
          1,
          1,
          1,
          1,
          1,
          1,
          1,
          1,
          1,
          1,
          1,
          1,
          1,
          1,
          1,
          1,
          1,
          1,
          1,
          1,
          1,
          1,
          1,
          1,
          1,
          1,
          1,
          1,
          1,
          1,
          1,
          1,
          1,
          1,
          1,
          1,
          1,
          1,
          1,
          1,
          1,
          1,
          1,
          1,
          1,
          1,
          1,
          1,
          1,
          1,
          1,
          1,
          1,
          1,
          1,
          1,
          1,
          1,
          1,
          1,
          1,
          1,
          1,
          1,
          1,
          1,
          1,
          1,
          1,
          1,
          1,
          1,
          1,
          1,
          1,
          1,
          1,
          1,
          1,
          1,
          1,
          1,
          1,
          1,
          1,
          1,
          1,
          1,
          1,
          1,
          1,
          1,
          1,
          1,
          1,
          1,
          1,
          1,
          1,
          1,
          1,
          1,
          1,
          1,
          1,
          1,
          1,
          1,
          1,
          1,
          1,
          1
         ],
         "yaxis": "y"
        }
       ],
       "layout": {
        "barmode": "relative",
        "font": {
         "size": 9
        },
        "legend": {
         "tracegroupgap": 0
        },
        "template": {
         "data": {
          "bar": [
           {
            "error_x": {
             "color": "#2a3f5f"
            },
            "error_y": {
             "color": "#2a3f5f"
            },
            "marker": {
             "line": {
              "color": "#E5ECF6",
              "width": 0.5
             },
             "pattern": {
              "fillmode": "overlay",
              "size": 10,
              "solidity": 0.2
             }
            },
            "type": "bar"
           }
          ],
          "barpolar": [
           {
            "marker": {
             "line": {
              "color": "#E5ECF6",
              "width": 0.5
             },
             "pattern": {
              "fillmode": "overlay",
              "size": 10,
              "solidity": 0.2
             }
            },
            "type": "barpolar"
           }
          ],
          "carpet": [
           {
            "aaxis": {
             "endlinecolor": "#2a3f5f",
             "gridcolor": "white",
             "linecolor": "white",
             "minorgridcolor": "white",
             "startlinecolor": "#2a3f5f"
            },
            "baxis": {
             "endlinecolor": "#2a3f5f",
             "gridcolor": "white",
             "linecolor": "white",
             "minorgridcolor": "white",
             "startlinecolor": "#2a3f5f"
            },
            "type": "carpet"
           }
          ],
          "choropleth": [
           {
            "colorbar": {
             "outlinewidth": 0,
             "ticks": ""
            },
            "type": "choropleth"
           }
          ],
          "contour": [
           {
            "colorbar": {
             "outlinewidth": 0,
             "ticks": ""
            },
            "colorscale": [
             [
              0,
              "#0d0887"
             ],
             [
              0.1111111111111111,
              "#46039f"
             ],
             [
              0.2222222222222222,
              "#7201a8"
             ],
             [
              0.3333333333333333,
              "#9c179e"
             ],
             [
              0.4444444444444444,
              "#bd3786"
             ],
             [
              0.5555555555555556,
              "#d8576b"
             ],
             [
              0.6666666666666666,
              "#ed7953"
             ],
             [
              0.7777777777777778,
              "#fb9f3a"
             ],
             [
              0.8888888888888888,
              "#fdca26"
             ],
             [
              1,
              "#f0f921"
             ]
            ],
            "type": "contour"
           }
          ],
          "contourcarpet": [
           {
            "colorbar": {
             "outlinewidth": 0,
             "ticks": ""
            },
            "type": "contourcarpet"
           }
          ],
          "heatmap": [
           {
            "colorbar": {
             "outlinewidth": 0,
             "ticks": ""
            },
            "colorscale": [
             [
              0,
              "#0d0887"
             ],
             [
              0.1111111111111111,
              "#46039f"
             ],
             [
              0.2222222222222222,
              "#7201a8"
             ],
             [
              0.3333333333333333,
              "#9c179e"
             ],
             [
              0.4444444444444444,
              "#bd3786"
             ],
             [
              0.5555555555555556,
              "#d8576b"
             ],
             [
              0.6666666666666666,
              "#ed7953"
             ],
             [
              0.7777777777777778,
              "#fb9f3a"
             ],
             [
              0.8888888888888888,
              "#fdca26"
             ],
             [
              1,
              "#f0f921"
             ]
            ],
            "type": "heatmap"
           }
          ],
          "heatmapgl": [
           {
            "colorbar": {
             "outlinewidth": 0,
             "ticks": ""
            },
            "colorscale": [
             [
              0,
              "#0d0887"
             ],
             [
              0.1111111111111111,
              "#46039f"
             ],
             [
              0.2222222222222222,
              "#7201a8"
             ],
             [
              0.3333333333333333,
              "#9c179e"
             ],
             [
              0.4444444444444444,
              "#bd3786"
             ],
             [
              0.5555555555555556,
              "#d8576b"
             ],
             [
              0.6666666666666666,
              "#ed7953"
             ],
             [
              0.7777777777777778,
              "#fb9f3a"
             ],
             [
              0.8888888888888888,
              "#fdca26"
             ],
             [
              1,
              "#f0f921"
             ]
            ],
            "type": "heatmapgl"
           }
          ],
          "histogram": [
           {
            "marker": {
             "pattern": {
              "fillmode": "overlay",
              "size": 10,
              "solidity": 0.2
             }
            },
            "type": "histogram"
           }
          ],
          "histogram2d": [
           {
            "colorbar": {
             "outlinewidth": 0,
             "ticks": ""
            },
            "colorscale": [
             [
              0,
              "#0d0887"
             ],
             [
              0.1111111111111111,
              "#46039f"
             ],
             [
              0.2222222222222222,
              "#7201a8"
             ],
             [
              0.3333333333333333,
              "#9c179e"
             ],
             [
              0.4444444444444444,
              "#bd3786"
             ],
             [
              0.5555555555555556,
              "#d8576b"
             ],
             [
              0.6666666666666666,
              "#ed7953"
             ],
             [
              0.7777777777777778,
              "#fb9f3a"
             ],
             [
              0.8888888888888888,
              "#fdca26"
             ],
             [
              1,
              "#f0f921"
             ]
            ],
            "type": "histogram2d"
           }
          ],
          "histogram2dcontour": [
           {
            "colorbar": {
             "outlinewidth": 0,
             "ticks": ""
            },
            "colorscale": [
             [
              0,
              "#0d0887"
             ],
             [
              0.1111111111111111,
              "#46039f"
             ],
             [
              0.2222222222222222,
              "#7201a8"
             ],
             [
              0.3333333333333333,
              "#9c179e"
             ],
             [
              0.4444444444444444,
              "#bd3786"
             ],
             [
              0.5555555555555556,
              "#d8576b"
             ],
             [
              0.6666666666666666,
              "#ed7953"
             ],
             [
              0.7777777777777778,
              "#fb9f3a"
             ],
             [
              0.8888888888888888,
              "#fdca26"
             ],
             [
              1,
              "#f0f921"
             ]
            ],
            "type": "histogram2dcontour"
           }
          ],
          "mesh3d": [
           {
            "colorbar": {
             "outlinewidth": 0,
             "ticks": ""
            },
            "type": "mesh3d"
           }
          ],
          "parcoords": [
           {
            "line": {
             "colorbar": {
              "outlinewidth": 0,
              "ticks": ""
             }
            },
            "type": "parcoords"
           }
          ],
          "pie": [
           {
            "automargin": true,
            "type": "pie"
           }
          ],
          "scatter": [
           {
            "fillpattern": {
             "fillmode": "overlay",
             "size": 10,
             "solidity": 0.2
            },
            "type": "scatter"
           }
          ],
          "scatter3d": [
           {
            "line": {
             "colorbar": {
              "outlinewidth": 0,
              "ticks": ""
             }
            },
            "marker": {
             "colorbar": {
              "outlinewidth": 0,
              "ticks": ""
             }
            },
            "type": "scatter3d"
           }
          ],
          "scattercarpet": [
           {
            "marker": {
             "colorbar": {
              "outlinewidth": 0,
              "ticks": ""
             }
            },
            "type": "scattercarpet"
           }
          ],
          "scattergeo": [
           {
            "marker": {
             "colorbar": {
              "outlinewidth": 0,
              "ticks": ""
             }
            },
            "type": "scattergeo"
           }
          ],
          "scattergl": [
           {
            "marker": {
             "colorbar": {
              "outlinewidth": 0,
              "ticks": ""
             }
            },
            "type": "scattergl"
           }
          ],
          "scattermapbox": [
           {
            "marker": {
             "colorbar": {
              "outlinewidth": 0,
              "ticks": ""
             }
            },
            "type": "scattermapbox"
           }
          ],
          "scatterpolar": [
           {
            "marker": {
             "colorbar": {
              "outlinewidth": 0,
              "ticks": ""
             }
            },
            "type": "scatterpolar"
           }
          ],
          "scatterpolargl": [
           {
            "marker": {
             "colorbar": {
              "outlinewidth": 0,
              "ticks": ""
             }
            },
            "type": "scatterpolargl"
           }
          ],
          "scatterternary": [
           {
            "marker": {
             "colorbar": {
              "outlinewidth": 0,
              "ticks": ""
             }
            },
            "type": "scatterternary"
           }
          ],
          "surface": [
           {
            "colorbar": {
             "outlinewidth": 0,
             "ticks": ""
            },
            "colorscale": [
             [
              0,
              "#0d0887"
             ],
             [
              0.1111111111111111,
              "#46039f"
             ],
             [
              0.2222222222222222,
              "#7201a8"
             ],
             [
              0.3333333333333333,
              "#9c179e"
             ],
             [
              0.4444444444444444,
              "#bd3786"
             ],
             [
              0.5555555555555556,
              "#d8576b"
             ],
             [
              0.6666666666666666,
              "#ed7953"
             ],
             [
              0.7777777777777778,
              "#fb9f3a"
             ],
             [
              0.8888888888888888,
              "#fdca26"
             ],
             [
              1,
              "#f0f921"
             ]
            ],
            "type": "surface"
           }
          ],
          "table": [
           {
            "cells": {
             "fill": {
              "color": "#EBF0F8"
             },
             "line": {
              "color": "white"
             }
            },
            "header": {
             "fill": {
              "color": "#C8D4E3"
             },
             "line": {
              "color": "white"
             }
            },
            "type": "table"
           }
          ]
         },
         "layout": {
          "annotationdefaults": {
           "arrowcolor": "#2a3f5f",
           "arrowhead": 0,
           "arrowwidth": 1
          },
          "autotypenumbers": "strict",
          "coloraxis": {
           "colorbar": {
            "outlinewidth": 0,
            "ticks": ""
           }
          },
          "colorscale": {
           "diverging": [
            [
             0,
             "#8e0152"
            ],
            [
             0.1,
             "#c51b7d"
            ],
            [
             0.2,
             "#de77ae"
            ],
            [
             0.3,
             "#f1b6da"
            ],
            [
             0.4,
             "#fde0ef"
            ],
            [
             0.5,
             "#f7f7f7"
            ],
            [
             0.6,
             "#e6f5d0"
            ],
            [
             0.7,
             "#b8e186"
            ],
            [
             0.8,
             "#7fbc41"
            ],
            [
             0.9,
             "#4d9221"
            ],
            [
             1,
             "#276419"
            ]
           ],
           "sequential": [
            [
             0,
             "#0d0887"
            ],
            [
             0.1111111111111111,
             "#46039f"
            ],
            [
             0.2222222222222222,
             "#7201a8"
            ],
            [
             0.3333333333333333,
             "#9c179e"
            ],
            [
             0.4444444444444444,
             "#bd3786"
            ],
            [
             0.5555555555555556,
             "#d8576b"
            ],
            [
             0.6666666666666666,
             "#ed7953"
            ],
            [
             0.7777777777777778,
             "#fb9f3a"
            ],
            [
             0.8888888888888888,
             "#fdca26"
            ],
            [
             1,
             "#f0f921"
            ]
           ],
           "sequentialminus": [
            [
             0,
             "#0d0887"
            ],
            [
             0.1111111111111111,
             "#46039f"
            ],
            [
             0.2222222222222222,
             "#7201a8"
            ],
            [
             0.3333333333333333,
             "#9c179e"
            ],
            [
             0.4444444444444444,
             "#bd3786"
            ],
            [
             0.5555555555555556,
             "#d8576b"
            ],
            [
             0.6666666666666666,
             "#ed7953"
            ],
            [
             0.7777777777777778,
             "#fb9f3a"
            ],
            [
             0.8888888888888888,
             "#fdca26"
            ],
            [
             1,
             "#f0f921"
            ]
           ]
          },
          "colorway": [
           "#636efa",
           "#EF553B",
           "#00cc96",
           "#ab63fa",
           "#FFA15A",
           "#19d3f3",
           "#FF6692",
           "#B6E880",
           "#FF97FF",
           "#FECB52"
          ],
          "font": {
           "color": "#2a3f5f"
          },
          "geo": {
           "bgcolor": "white",
           "lakecolor": "white",
           "landcolor": "#E5ECF6",
           "showlakes": true,
           "showland": true,
           "subunitcolor": "white"
          },
          "hoverlabel": {
           "align": "left"
          },
          "hovermode": "closest",
          "mapbox": {
           "style": "light"
          },
          "paper_bgcolor": "white",
          "plot_bgcolor": "#E5ECF6",
          "polar": {
           "angularaxis": {
            "gridcolor": "white",
            "linecolor": "white",
            "ticks": ""
           },
           "bgcolor": "#E5ECF6",
           "radialaxis": {
            "gridcolor": "white",
            "linecolor": "white",
            "ticks": ""
           }
          },
          "scene": {
           "xaxis": {
            "backgroundcolor": "#E5ECF6",
            "gridcolor": "white",
            "gridwidth": 2,
            "linecolor": "white",
            "showbackground": true,
            "ticks": "",
            "zerolinecolor": "white"
           },
           "yaxis": {
            "backgroundcolor": "#E5ECF6",
            "gridcolor": "white",
            "gridwidth": 2,
            "linecolor": "white",
            "showbackground": true,
            "ticks": "",
            "zerolinecolor": "white"
           },
           "zaxis": {
            "backgroundcolor": "#E5ECF6",
            "gridcolor": "white",
            "gridwidth": 2,
            "linecolor": "white",
            "showbackground": true,
            "ticks": "",
            "zerolinecolor": "white"
           }
          },
          "shapedefaults": {
           "line": {
            "color": "#2a3f5f"
           }
          },
          "ternary": {
           "aaxis": {
            "gridcolor": "white",
            "linecolor": "white",
            "ticks": ""
           },
           "baxis": {
            "gridcolor": "white",
            "linecolor": "white",
            "ticks": ""
           },
           "bgcolor": "#E5ECF6",
           "caxis": {
            "gridcolor": "white",
            "linecolor": "white",
            "ticks": ""
           }
          },
          "title": {
           "x": 0.05
          },
          "xaxis": {
           "automargin": true,
           "gridcolor": "white",
           "linecolor": "white",
           "ticks": "",
           "title": {
            "standoff": 15
           },
           "zerolinecolor": "white",
           "zerolinewidth": 2
          },
          "yaxis": {
           "automargin": true,
           "gridcolor": "white",
           "linecolor": "white",
           "ticks": "",
           "title": {
            "standoff": 15
           },
           "zerolinecolor": "white",
           "zerolinewidth": 2
          }
         }
        },
        "title": {
         "text": "乗車人数が3人以上のときに、どのspotへ行ったかを調べ、行った回数をカウントするサンプル(1)"
        },
        "xaxis": {
         "anchor": "y",
         "domain": [
          0,
          1
         ],
         "tickangle": 45,
         "title": {
          "text": "スポット名"
         }
        },
        "yaxis": {
         "anchor": "x",
         "domain": [
          0,
          1
         ],
         "title": {
          "text": "行った回数"
         }
        }
       }
      }
     },
     "metadata": {},
     "output_type": "display_data"
    },
    {
     "data": {
      "application/vnd.plotly.v1+json": {
       "config": {
        "plotlyServerURL": "https://plot.ly"
       },
       "data": [
        {
         "alignmentgroup": "True",
         "hovertemplate": "spot_name=%{x}<br>行った回数=%{y}<extra></extra>",
         "legendgroup": "",
         "marker": {
          "color": "#636efa",
          "pattern": {
           "shape": ""
          }
         },
         "name": "",
         "offsetgroup": "",
         "orientation": "v",
         "showlegend": false,
         "textposition": "auto",
         "type": "bar",
         "x": [
          "イオンモール高の原",
          "ラフィネ",
          "イオンモール奈良登美ヶ丘",
          "奈良先端科学技術大学院大学 学生宿舎",
          "セブン-イレブン 生駒鹿畑町店",
          "ローソン 学研北生駒駅前店",
          "岡本矯正歯科",
          "吉野家 １６３号線生駒店",
          "かつアンドかつ 精華町店",
          "ココカラファイン 北生駒店",
          "トマツナ弦楽器研究所",
          "あづまケータリングサービス おしくま店",
          "高山郵便局",
          "マクドナルド 白庭台店",
          "グリーンラボ",
          "吉祥寺鍼灸接骨院",
          "みらん 奈良店",
          "きんのぶた 北生駒上町店",
          "ジャパン 奈良押熊店",
          "EV充電スタンド",
          "生駒北大和",
          "スシロー 精華町店",
          "アノラーメン製作所",
          "ドトールコーヒーショップ アピタタウンけいはんな店",
          "河童ラーメン本舗 押熊店",
          "キリン堂 生駒店",
          "原歯科医院",
          "ビッグボーイ 奈良平城店",
          "松島塗装工業株式会社",
          "セブン-イレブン 生駒北田原町店",
          "揉みほぐし名家",
          "ファミリーマート 生駒西白庭台店",
          "餃子の王将 押熊店",
          "島ヶ原温泉 やぶっちゃの湯",
          "ガスト 生駒鹿の台東店",
          "EVERY BODY 北大和店",
          "駐車場",
          "ラ・ムー 奈良二名店",
          "生命科学研究基盤センター",
          "もりはなてん 生駒上町店",
          "ジョイフル 京都精華町店",
          "北大和体育施設 体育館",
          "愛和エクステリア",
          "auショップ 押熊",
          "ゆららの湯 押熊店",
          "すぎもと鍼灸接骨院",
          "バーミヤン 生駒白庭台店",
          "Naist Student Dormitory 7",
          "いだ矯正歯科",
          "辰巳マンション",
          "ガネーシャマハル",
          "ブーランジェ ヤマダ",
          "1F屋内",
          "ハローストレージ学研奈良登美ヶ丘",
          "studio KUMO",
          "Vent-Cloud LOCUS",
          "コスモ石油 B-cleセンターけいはんな光台 SS (上原成商事)",
          "花の木",
          "ジャパン 奈良尼ヶ辻店",
          "ALOHA CAFE Pineapple 生駒店",
          "Amazon Hub ロッカー - スギ_富雄三松店",
          "フラワーショップメープル",
          "西向橋（バス）",
          "Honda Cars 奈良中央 学園前店",
          "生駒北大和郵便局",
          "トリカヂ イッパイ",
          "化成品産業（株）",
          "生鮮＆業務スーパーボトルワールドOK 押熊店",
          "二輪館P.F.D.",
          "ユクリ",
          "帝塚山大学前（バス）",
          "ユーポス生駒店",
          "進弘フードサービス株式会社",
          "鳥鳥 学園前店",
          "ファミリーマート 生駒上町店",
          "07オートリース",
          "くろんど池自然公園",
          "くま教育センター 奈良教室",
          "たけまるホール（旧中央公民館）",
          "ルビアン",
          "フリルアイビューティー・北生駒店",
          "まえはし整骨院",
          "麺屋じすり駐車場",
          "居間焼肉 百欒 登美ヶ丘店",
          "まちのカフェVIVO",
          "京都府宇治市立伊勢田小学校 育成学級",
          "朝日自動車工業（株） リース事業部",
          "かしき屋 福茂千",
          "合同会社ヒートテック",
          "手芸センタードリーム ムサシ京都八幡店",
          "山陵八幡神社",
          "Champ TOMIGAOKA",
          "マルエスペットヒルステップ生駒店",
          "登美ヶ丘駅前駐車場",
          "ハローワーク大和郡山",
          "ドミノ・ピザ生駒店",
          "美容室 ヘアサロン 絆-キズナ-",
          "Hair Make SNIPE",
          "伊勢津ドライ万代菜畑店",
          "生駒市立井出山体育館",
          "株式会社三木ホーム",
          "ルイジアナママ 奈良学園前店",
          "ルーチェサンタルチア 生駒学園前店",
          "Panasonic shop （株）パナックイトウ",
          "上村大橋",
          "春日橋",
          "Shanti Yoga",
          "川端風太朗",
          "iPhone・スマホ修理カメラアサヒ ならファミリー店",
          "山桜の園 休憩広場",
          "近鉄高の原駅前-レンタルバイク[ベストBike®︎]",
          "学研奈良ピュア保育園",
          "高の原駅",
          "駐輪場",
          "（株）建設技術研究所 奈良事務所",
          "シティロックジム大和郡山店",
          "ABCハウジング 奈良・登美ヶ丘住宅公園",
          "アサヒペットクリニック",
          "コイン精米機",
          "スポーツクラブ＆スパ ルネサンス 登美ヶ丘",
          "サイクルショップ 高の原店",
          "コーナン精華台店",
          "鹿ノ台佐保保育園",
          "コメダ珈琲店 生駒店",
          "セブン-イレブン 生駒山崎町店",
          "MARUWAアパマン富雄店",
          "セブン銀行ATM",
          "ヤマト運輸 学研営業所（あすか野）",
          "K-TERRACE学研奈良登美ヶ丘",
          "生駒山万葉歌碑 (生駒市体育協会S.C.)",
          "コストコホールセール 京都八幡倉庫店",
          "ココス 東生駒店",
          "株式会社Arch",
          "コウキ商事 富雄文化教室",
          "ケニス 門真ディストリビューションセンター（門真D.C.）",
          "うなぎの豊川",
          "アートスタジオ",
          "（株）サンケア",
          "四季の森公園（バス）",
          "幸庵 京都乾谷店",
          "夢咲家",
          "天ぷら 吉四六",
          "（株）ベルコ 東生駒駅前ホール",
          "（株）伊勢津ドライ 坊城店",
          "ウエルシア相楽精華台店",
          "ミスタードーナツ ベルテラスいこまショップ",
          "L.Park",
          "くら寿司 精華町店",
          "ダイソー 枚方307店",
          "BOOKOFF 奈良押熊店",
          "BARKBOX",
          "なか卯 生駒俵口店",
          "つけ麺 無心",
          "ジョリーパスタ 押熊店",
          "セブン-イレブン 奈良中登美ヶ丘３丁目店",
          "ピザハット ならやま大通り押熊店",
          "ダイソー SUCオークワ生駒上町店",
          "シャンテ ムーラン",
          "マキノ健康センター・マキノ整骨院",
          "HORIC",
          "芝田自動車 奈良スマイル店",
          "frau",
          "Cauda",
          "WAY書店 TSUTAYA奈良押熊店",
          "車椅子用駐車場",
          "帝塚山中学校・高等学校",
          "越後 押熊店",
          "幸生堂薬局 生駒店",
          "Dog salon kerico",
          "幼保連携型認定こども園 生駒ピュアこども園",
          "VENTIMIGLIA（ヴァンティミリア）",
          "apollostation セルフ秋篠SS （シェル石油大阪発売所）",
          "愛知陸運（株） 京都営業所",
          "進学ゼミ・エスト",
          "麺舎 いっとう 奈良富雄店",
          "関西電力送配電登美ヶ丘変電所",
          "（株）アドスペース",
          "生駒郵便局集荷",
          "生駒駅南自動車駐車場",
          "Amazon ロッカー - スギ_登美ケ丘店",
          "法壽舎",
          "MEGAドン・キホーテUNY精華台店",
          "登美ケ丘第２パーキング",
          "登美ヶ丘リハビリテーション病院",
          "株式会社エイチツーオー生駒支店",
          "白庭台薬局",
          "松のや 南森町店",
          "東登美ヶ丘5号街区公園",
          "百味菜酒家 きなり",
          "木津川市役所 西部出張所",
          "真弓橋（バス）",
          "生駒市立あすか野小学校",
          "登美ヶ丘治療院",
          "カラオケレインボー精華光台店",
          "契約駐車場みやけ",
          "まさご",
          "たま木亭",
          "ビストロ イブー",
          "ハートフルビレッジ西大寺Ⅱ",
          "はま寿司 奈良押熊店",
          "ノムラクリーニング 谷田店",
          "びっくりドンキー 奈良学園前店",
          "ドイツ菓子 ゲベック 本店",
          "まいどおおきに食堂 奈良 四条大路食堂",
          "トヨタEV充電スタンド",
          "まいどおおきに食堂 秋篠食堂",
          "データオンストア",
          "ダスキン菜畑サービスマスター・メリーメイド",
          "タイムズのB コメリパワー生駒店駐車場",
          "セレミューズ(株)",
          "セカンドストリート奈良法華寺店",
          "フォレストデイサービスセンター鹿ノ台",
          "スマートパーク ミナーラ 第1（ｺｲﾝﾊﾟｰｷﾝｸﾞ）",
          "スマイルホテル奈良",
          "やました医院",
          "ゆうちょ銀行 大阪支店 ファミリーマート精華光台店内出張所",
          "ゆうちょ銀行 大阪支店 ファミリーマート西登美ヶ丘店内出張所",
          "サーティワンアイスクリーム 大和郡山店",
          "コスモ石油 セルフ登美ヶ丘 SS (コスモ石油販売大阪カンパニー)",
          "アグリステーション飛鳥 無料駐車場",
          "コイン精米所",
          "グルナディエ",
          "グランツしかはた",
          "クリーニングのフランス屋 生駒店",
          "アーバンハウス㈱",
          "オクムラ薬局",
          "ファミリーモア八重桜 押熊館",
          "たけうち動物病院",
          "奈良学園大学",
          "カーコンビニ倶楽部 スーパーショップ 奈良押熊店",
          "奈良商工会議所",
          "奈良先端科学技術大学院大学（バス）",
          "奈良 野菜ソムリエの店 Rokumeikan",
          "天理教生和分教会",
          "大和アルミ工業（株）",
          "城南タクシー",
          "地蔵尊(与楽)",
          "和食さと 新大宮店",
          "あげあげ奈良・富士屋",
          "うどん＋食彩 いな田",
          "吉田機電",
          "かつ満 生駒西白庭台店",
          "円生院",
          "個別指導の明光義塾 学研奈良登美ヶ丘教室",
          "かわにし歯科医院",
          "ベル不動産コンサルタント（株）",
          "ローソン銀行ＡＴＭ 木津川山城共同出張所",
          "ローソン銀行ＡＴＭ 奈良三条大路共同出張所",
          "かわの整骨院",
          "きむら歯科",
          "ラストル",
          "ラウンドワンスタジアム 城東放出店",
          "くら寿司 奈良学園前店",
          "ユニクロ 押熊店",
          "くら寿司 生駒店",
          "メルセデス・ベンツ奈良学園前",
          "ムツミ",
          "ミレニアムホール",
          "マクドナルド ビエラタウンけいはんな店",
          "ペットアミ生駒店",
          "（社）奈良県警備業協会"
         ],
         "xaxis": "x",
         "y": [
          109,
          53,
          47,
          39,
          35,
          28,
          25,
          23,
          22,
          21,
          21,
          20,
          20,
          20,
          20,
          20,
          20,
          19,
          19,
          18,
          17,
          16,
          16,
          15,
          14,
          14,
          13,
          13,
          13,
          13,
          13,
          12,
          12,
          11,
          11,
          11,
          11,
          11,
          10,
          10,
          10,
          10,
          9,
          9,
          9,
          8,
          8,
          8,
          8,
          8,
          8,
          7,
          7,
          7,
          7,
          7,
          7,
          7,
          6,
          6,
          6,
          6,
          6,
          6,
          6,
          6,
          6,
          5,
          5,
          5,
          5,
          5,
          5,
          5,
          5,
          5,
          5,
          5,
          5,
          4,
          4,
          4,
          4,
          4,
          4,
          4,
          4,
          4,
          4,
          4,
          4,
          4,
          4,
          3,
          3,
          3,
          3,
          3,
          3,
          3,
          3,
          3,
          3,
          3,
          3,
          3,
          3,
          3,
          3,
          3,
          3,
          3,
          3,
          3,
          3,
          3,
          3,
          3,
          3,
          3,
          3,
          3,
          2,
          2,
          2,
          2,
          2,
          2,
          2,
          2,
          2,
          2,
          2,
          2,
          2,
          2,
          2,
          2,
          2,
          2,
          2,
          2,
          2,
          2,
          2,
          2,
          2,
          2,
          2,
          2,
          2,
          2,
          2,
          2,
          2,
          2,
          2,
          2,
          2,
          2,
          1,
          1,
          1,
          1,
          1,
          1,
          1,
          1,
          1,
          1,
          1,
          1,
          1,
          1,
          1,
          1,
          1,
          1,
          1,
          1,
          1,
          1,
          1,
          1,
          1,
          1,
          1,
          1,
          1,
          1,
          1,
          1,
          1,
          1,
          1,
          1,
          1,
          1,
          1,
          1,
          1,
          1,
          1,
          1,
          1,
          1,
          1,
          1,
          1,
          1,
          1,
          1,
          1,
          1,
          1,
          1,
          1,
          1,
          1,
          1,
          1,
          1,
          1,
          1,
          1,
          1,
          1,
          1,
          1,
          1,
          1,
          1,
          1,
          1,
          1,
          1,
          1,
          1,
          1,
          1,
          1,
          1,
          1,
          1,
          1,
          1,
          1,
          1,
          1,
          1,
          1,
          1,
          1,
          1,
          1,
          1,
          1,
          1,
          1,
          1,
          1
         ],
         "yaxis": "y"
        }
       ],
       "layout": {
        "barmode": "relative",
        "font": {
         "size": 9
        },
        "legend": {
         "tracegroupgap": 0
        },
        "template": {
         "data": {
          "bar": [
           {
            "error_x": {
             "color": "#2a3f5f"
            },
            "error_y": {
             "color": "#2a3f5f"
            },
            "marker": {
             "line": {
              "color": "#E5ECF6",
              "width": 0.5
             },
             "pattern": {
              "fillmode": "overlay",
              "size": 10,
              "solidity": 0.2
             }
            },
            "type": "bar"
           }
          ],
          "barpolar": [
           {
            "marker": {
             "line": {
              "color": "#E5ECF6",
              "width": 0.5
             },
             "pattern": {
              "fillmode": "overlay",
              "size": 10,
              "solidity": 0.2
             }
            },
            "type": "barpolar"
           }
          ],
          "carpet": [
           {
            "aaxis": {
             "endlinecolor": "#2a3f5f",
             "gridcolor": "white",
             "linecolor": "white",
             "minorgridcolor": "white",
             "startlinecolor": "#2a3f5f"
            },
            "baxis": {
             "endlinecolor": "#2a3f5f",
             "gridcolor": "white",
             "linecolor": "white",
             "minorgridcolor": "white",
             "startlinecolor": "#2a3f5f"
            },
            "type": "carpet"
           }
          ],
          "choropleth": [
           {
            "colorbar": {
             "outlinewidth": 0,
             "ticks": ""
            },
            "type": "choropleth"
           }
          ],
          "contour": [
           {
            "colorbar": {
             "outlinewidth": 0,
             "ticks": ""
            },
            "colorscale": [
             [
              0,
              "#0d0887"
             ],
             [
              0.1111111111111111,
              "#46039f"
             ],
             [
              0.2222222222222222,
              "#7201a8"
             ],
             [
              0.3333333333333333,
              "#9c179e"
             ],
             [
              0.4444444444444444,
              "#bd3786"
             ],
             [
              0.5555555555555556,
              "#d8576b"
             ],
             [
              0.6666666666666666,
              "#ed7953"
             ],
             [
              0.7777777777777778,
              "#fb9f3a"
             ],
             [
              0.8888888888888888,
              "#fdca26"
             ],
             [
              1,
              "#f0f921"
             ]
            ],
            "type": "contour"
           }
          ],
          "contourcarpet": [
           {
            "colorbar": {
             "outlinewidth": 0,
             "ticks": ""
            },
            "type": "contourcarpet"
           }
          ],
          "heatmap": [
           {
            "colorbar": {
             "outlinewidth": 0,
             "ticks": ""
            },
            "colorscale": [
             [
              0,
              "#0d0887"
             ],
             [
              0.1111111111111111,
              "#46039f"
             ],
             [
              0.2222222222222222,
              "#7201a8"
             ],
             [
              0.3333333333333333,
              "#9c179e"
             ],
             [
              0.4444444444444444,
              "#bd3786"
             ],
             [
              0.5555555555555556,
              "#d8576b"
             ],
             [
              0.6666666666666666,
              "#ed7953"
             ],
             [
              0.7777777777777778,
              "#fb9f3a"
             ],
             [
              0.8888888888888888,
              "#fdca26"
             ],
             [
              1,
              "#f0f921"
             ]
            ],
            "type": "heatmap"
           }
          ],
          "heatmapgl": [
           {
            "colorbar": {
             "outlinewidth": 0,
             "ticks": ""
            },
            "colorscale": [
             [
              0,
              "#0d0887"
             ],
             [
              0.1111111111111111,
              "#46039f"
             ],
             [
              0.2222222222222222,
              "#7201a8"
             ],
             [
              0.3333333333333333,
              "#9c179e"
             ],
             [
              0.4444444444444444,
              "#bd3786"
             ],
             [
              0.5555555555555556,
              "#d8576b"
             ],
             [
              0.6666666666666666,
              "#ed7953"
             ],
             [
              0.7777777777777778,
              "#fb9f3a"
             ],
             [
              0.8888888888888888,
              "#fdca26"
             ],
             [
              1,
              "#f0f921"
             ]
            ],
            "type": "heatmapgl"
           }
          ],
          "histogram": [
           {
            "marker": {
             "pattern": {
              "fillmode": "overlay",
              "size": 10,
              "solidity": 0.2
             }
            },
            "type": "histogram"
           }
          ],
          "histogram2d": [
           {
            "colorbar": {
             "outlinewidth": 0,
             "ticks": ""
            },
            "colorscale": [
             [
              0,
              "#0d0887"
             ],
             [
              0.1111111111111111,
              "#46039f"
             ],
             [
              0.2222222222222222,
              "#7201a8"
             ],
             [
              0.3333333333333333,
              "#9c179e"
             ],
             [
              0.4444444444444444,
              "#bd3786"
             ],
             [
              0.5555555555555556,
              "#d8576b"
             ],
             [
              0.6666666666666666,
              "#ed7953"
             ],
             [
              0.7777777777777778,
              "#fb9f3a"
             ],
             [
              0.8888888888888888,
              "#fdca26"
             ],
             [
              1,
              "#f0f921"
             ]
            ],
            "type": "histogram2d"
           }
          ],
          "histogram2dcontour": [
           {
            "colorbar": {
             "outlinewidth": 0,
             "ticks": ""
            },
            "colorscale": [
             [
              0,
              "#0d0887"
             ],
             [
              0.1111111111111111,
              "#46039f"
             ],
             [
              0.2222222222222222,
              "#7201a8"
             ],
             [
              0.3333333333333333,
              "#9c179e"
             ],
             [
              0.4444444444444444,
              "#bd3786"
             ],
             [
              0.5555555555555556,
              "#d8576b"
             ],
             [
              0.6666666666666666,
              "#ed7953"
             ],
             [
              0.7777777777777778,
              "#fb9f3a"
             ],
             [
              0.8888888888888888,
              "#fdca26"
             ],
             [
              1,
              "#f0f921"
             ]
            ],
            "type": "histogram2dcontour"
           }
          ],
          "mesh3d": [
           {
            "colorbar": {
             "outlinewidth": 0,
             "ticks": ""
            },
            "type": "mesh3d"
           }
          ],
          "parcoords": [
           {
            "line": {
             "colorbar": {
              "outlinewidth": 0,
              "ticks": ""
             }
            },
            "type": "parcoords"
           }
          ],
          "pie": [
           {
            "automargin": true,
            "type": "pie"
           }
          ],
          "scatter": [
           {
            "fillpattern": {
             "fillmode": "overlay",
             "size": 10,
             "solidity": 0.2
            },
            "type": "scatter"
           }
          ],
          "scatter3d": [
           {
            "line": {
             "colorbar": {
              "outlinewidth": 0,
              "ticks": ""
             }
            },
            "marker": {
             "colorbar": {
              "outlinewidth": 0,
              "ticks": ""
             }
            },
            "type": "scatter3d"
           }
          ],
          "scattercarpet": [
           {
            "marker": {
             "colorbar": {
              "outlinewidth": 0,
              "ticks": ""
             }
            },
            "type": "scattercarpet"
           }
          ],
          "scattergeo": [
           {
            "marker": {
             "colorbar": {
              "outlinewidth": 0,
              "ticks": ""
             }
            },
            "type": "scattergeo"
           }
          ],
          "scattergl": [
           {
            "marker": {
             "colorbar": {
              "outlinewidth": 0,
              "ticks": ""
             }
            },
            "type": "scattergl"
           }
          ],
          "scattermapbox": [
           {
            "marker": {
             "colorbar": {
              "outlinewidth": 0,
              "ticks": ""
             }
            },
            "type": "scattermapbox"
           }
          ],
          "scatterpolar": [
           {
            "marker": {
             "colorbar": {
              "outlinewidth": 0,
              "ticks": ""
             }
            },
            "type": "scatterpolar"
           }
          ],
          "scatterpolargl": [
           {
            "marker": {
             "colorbar": {
              "outlinewidth": 0,
              "ticks": ""
             }
            },
            "type": "scatterpolargl"
           }
          ],
          "scatterternary": [
           {
            "marker": {
             "colorbar": {
              "outlinewidth": 0,
              "ticks": ""
             }
            },
            "type": "scatterternary"
           }
          ],
          "surface": [
           {
            "colorbar": {
             "outlinewidth": 0,
             "ticks": ""
            },
            "colorscale": [
             [
              0,
              "#0d0887"
             ],
             [
              0.1111111111111111,
              "#46039f"
             ],
             [
              0.2222222222222222,
              "#7201a8"
             ],
             [
              0.3333333333333333,
              "#9c179e"
             ],
             [
              0.4444444444444444,
              "#bd3786"
             ],
             [
              0.5555555555555556,
              "#d8576b"
             ],
             [
              0.6666666666666666,
              "#ed7953"
             ],
             [
              0.7777777777777778,
              "#fb9f3a"
             ],
             [
              0.8888888888888888,
              "#fdca26"
             ],
             [
              1,
              "#f0f921"
             ]
            ],
            "type": "surface"
           }
          ],
          "table": [
           {
            "cells": {
             "fill": {
              "color": "#EBF0F8"
             },
             "line": {
              "color": "white"
             }
            },
            "header": {
             "fill": {
              "color": "#C8D4E3"
             },
             "line": {
              "color": "white"
             }
            },
            "type": "table"
           }
          ]
         },
         "layout": {
          "annotationdefaults": {
           "arrowcolor": "#2a3f5f",
           "arrowhead": 0,
           "arrowwidth": 1
          },
          "autotypenumbers": "strict",
          "coloraxis": {
           "colorbar": {
            "outlinewidth": 0,
            "ticks": ""
           }
          },
          "colorscale": {
           "diverging": [
            [
             0,
             "#8e0152"
            ],
            [
             0.1,
             "#c51b7d"
            ],
            [
             0.2,
             "#de77ae"
            ],
            [
             0.3,
             "#f1b6da"
            ],
            [
             0.4,
             "#fde0ef"
            ],
            [
             0.5,
             "#f7f7f7"
            ],
            [
             0.6,
             "#e6f5d0"
            ],
            [
             0.7,
             "#b8e186"
            ],
            [
             0.8,
             "#7fbc41"
            ],
            [
             0.9,
             "#4d9221"
            ],
            [
             1,
             "#276419"
            ]
           ],
           "sequential": [
            [
             0,
             "#0d0887"
            ],
            [
             0.1111111111111111,
             "#46039f"
            ],
            [
             0.2222222222222222,
             "#7201a8"
            ],
            [
             0.3333333333333333,
             "#9c179e"
            ],
            [
             0.4444444444444444,
             "#bd3786"
            ],
            [
             0.5555555555555556,
             "#d8576b"
            ],
            [
             0.6666666666666666,
             "#ed7953"
            ],
            [
             0.7777777777777778,
             "#fb9f3a"
            ],
            [
             0.8888888888888888,
             "#fdca26"
            ],
            [
             1,
             "#f0f921"
            ]
           ],
           "sequentialminus": [
            [
             0,
             "#0d0887"
            ],
            [
             0.1111111111111111,
             "#46039f"
            ],
            [
             0.2222222222222222,
             "#7201a8"
            ],
            [
             0.3333333333333333,
             "#9c179e"
            ],
            [
             0.4444444444444444,
             "#bd3786"
            ],
            [
             0.5555555555555556,
             "#d8576b"
            ],
            [
             0.6666666666666666,
             "#ed7953"
            ],
            [
             0.7777777777777778,
             "#fb9f3a"
            ],
            [
             0.8888888888888888,
             "#fdca26"
            ],
            [
             1,
             "#f0f921"
            ]
           ]
          },
          "colorway": [
           "#636efa",
           "#EF553B",
           "#00cc96",
           "#ab63fa",
           "#FFA15A",
           "#19d3f3",
           "#FF6692",
           "#B6E880",
           "#FF97FF",
           "#FECB52"
          ],
          "font": {
           "color": "#2a3f5f"
          },
          "geo": {
           "bgcolor": "white",
           "lakecolor": "white",
           "landcolor": "#E5ECF6",
           "showlakes": true,
           "showland": true,
           "subunitcolor": "white"
          },
          "hoverlabel": {
           "align": "left"
          },
          "hovermode": "closest",
          "mapbox": {
           "style": "light"
          },
          "paper_bgcolor": "white",
          "plot_bgcolor": "#E5ECF6",
          "polar": {
           "angularaxis": {
            "gridcolor": "white",
            "linecolor": "white",
            "ticks": ""
           },
           "bgcolor": "#E5ECF6",
           "radialaxis": {
            "gridcolor": "white",
            "linecolor": "white",
            "ticks": ""
           }
          },
          "scene": {
           "xaxis": {
            "backgroundcolor": "#E5ECF6",
            "gridcolor": "white",
            "gridwidth": 2,
            "linecolor": "white",
            "showbackground": true,
            "ticks": "",
            "zerolinecolor": "white"
           },
           "yaxis": {
            "backgroundcolor": "#E5ECF6",
            "gridcolor": "white",
            "gridwidth": 2,
            "linecolor": "white",
            "showbackground": true,
            "ticks": "",
            "zerolinecolor": "white"
           },
           "zaxis": {
            "backgroundcolor": "#E5ECF6",
            "gridcolor": "white",
            "gridwidth": 2,
            "linecolor": "white",
            "showbackground": true,
            "ticks": "",
            "zerolinecolor": "white"
           }
          },
          "shapedefaults": {
           "line": {
            "color": "#2a3f5f"
           }
          },
          "ternary": {
           "aaxis": {
            "gridcolor": "white",
            "linecolor": "white",
            "ticks": ""
           },
           "baxis": {
            "gridcolor": "white",
            "linecolor": "white",
            "ticks": ""
           },
           "bgcolor": "#E5ECF6",
           "caxis": {
            "gridcolor": "white",
            "linecolor": "white",
            "ticks": ""
           }
          },
          "title": {
           "x": 0.05
          },
          "xaxis": {
           "automargin": true,
           "gridcolor": "white",
           "linecolor": "white",
           "ticks": "",
           "title": {
            "standoff": 15
           },
           "zerolinecolor": "white",
           "zerolinewidth": 2
          },
          "yaxis": {
           "automargin": true,
           "gridcolor": "white",
           "linecolor": "white",
           "ticks": "",
           "title": {
            "standoff": 15
           },
           "zerolinecolor": "white",
           "zerolinewidth": 2
          }
         }
        },
        "title": {
         "text": "乗車人数が3人以上のときに、どのspotへ行ったかを調べ、行った回数をカウントするサンプル(2)"
        },
        "xaxis": {
         "anchor": "y",
         "domain": [
          0,
          1
         ],
         "tickangle": 45,
         "title": {
          "text": "スポット名"
         }
        },
        "yaxis": {
         "anchor": "x",
         "domain": [
          0,
          1
         ],
         "title": {
          "text": "行った回数"
         }
        }
       }
      }
     },
     "metadata": {},
     "output_type": "display_data"
    }
   ],
   "source": [
    "# 乗車人数が3人以上のときに，どのspotへ行ったかを調べ，行った回数をカウントするサンプル\n",
    "\n",
    "# 参考リンク\n",
    "# テーブル結合 https://note.nkmk.me/en/python-pandas-merge-join/\n",
    "# データ集計 https://note.nkmk.me/python-pandas-groupby-statistics/\n",
    "# データの重複削除 https://note.nkmk.me/python-pandas-duplicated-drop-duplicates/\n",
    "# ソート https://note.nkmk.me/python-pandas-sort-in-any-order/\n",
    "# ソート https://note.nkmk.me/python-pandas-sort-values-sort-index/\n",
    "# グラフ描画 https://plotly.com/python/\n",
    "\n",
    "import plotly.express as px\n",
    "\n",
    "# trip tableとhistory tableを結合\n",
    "trip_with_history = trip_df.merge(history_df, on=\"history_id\")\n",
    "# 乗車人数が3人以上のもので絞り込み\n",
    "trip_more_than_three_passengers = trip_with_history[\n",
    "    trip_with_history[\"passengers_count\"] >= 3\n",
    "]\n",
    "# spot_idを元にspot tableを結合する\n",
    "trip_with_spot = trip_more_than_three_passengers.merge(spot_df, on=\"spot_id\")\n",
    "# is_parkingがFalseのものだけ抽出する\n",
    "trip_with_non_parking_spot = trip_with_spot[trip_with_spot[\"is_parking\"] == False]\n",
    "\n",
    "# 可視化パターン1\n",
    "# spot_idに基づいて，spot_nameとその件数を取得し，ソートする\n",
    "result_df = (\n",
    "    trip_with_non_parking_spot.groupby([\"spot_id\", \"spot_name\"])\n",
    "    .size()\n",
    "    .to_frame(\"count\")\n",
    "    .sort_values(\"count\", ascending=False)\n",
    "    .reset_index()\n",
    ")\n",
    "\n",
    "fig1 = px.bar(\n",
    "    result_df,\n",
    "    x=\"spot_name\",\n",
    "    y=\"count\",\n",
    "    title=\"乗車人数が3人以上のときに、どのspotへ行ったかを調べ、行った回数をカウントするサンプル(1)\",\n",
    "    labels={\"count\": \"行った回数\"}, \n",
    ")\n",
    "fig1.update_layout(\n",
    "    xaxis=dict(\n",
    "        tickangle=45,\n",
    "        title_text=\"スポット名\",\n",
    "    ),\n",
    "    yaxis=dict(\n",
    "        title_text=\"行った回数\",\n",
    "    ),\n",
    "    font=dict(\n",
    "        size=9,\n",
    "    ),\n",
    ")\n",
    "fig1.show()\n",
    "\n",
    "\n",
    "# 可視化パターン2\n",
    "# spot_nameに基づいて，その件数を取得し，ソートする\n",
    "total_counts_df = (\n",
    "    trip_with_non_parking_spot.groupby('spot_name')['count']\n",
    "    .size()\n",
    "    .to_frame(\"count\")\n",
    "    .sort_values(\"count\", ascending=False)\n",
    "    .reset_index()\n",
    ")\n",
    "\n",
    "fig2 = px.bar(\n",
    "    total_counts_df,\n",
    "    x=\"spot_name\",\n",
    "    y=\"count\",\n",
    "    title=\"乗車人数が3人以上のときに、どのspotへ行ったかを調べ、行った回数をカウントするサンプル(2)\",\n",
    "    labels={\"count\": \"行った回数\"}, \n",
    ")\n",
    "fig2.update_layout(\n",
    "    xaxis=dict(\n",
    "        tickangle=45,\n",
    "        title_text=\"スポット名\",\n",
    "    ),\n",
    "    yaxis=dict(\n",
    "        title_text=\"行った回数\",\n",
    "    ),\n",
    "    font=dict(\n",
    "        size=9,\n",
    "    ),\n",
    ")\n",
    "fig2.show()\n"
   ]
  },
  {
   "cell_type": "code",
   "execution_count": null,
   "metadata": {},
   "outputs": [],
   "source": []
  }
 ],
 "metadata": {
  "kernelspec": {
   "display_name": "Python 3",
   "language": "python",
   "name": "python3"
  },
  "language_info": {
   "codemirror_mode": {
    "name": "ipython",
    "version": 3
   },
   "file_extension": ".py",
   "mimetype": "text/x-python",
   "name": "python",
   "nbconvert_exporter": "python",
   "pygments_lexer": "ipython3",
   "version": "3.9.10"
  }
 },
 "nbformat": 4,
 "nbformat_minor": 2
}
